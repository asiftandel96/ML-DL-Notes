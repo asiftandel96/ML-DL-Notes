{
 "cells": [
  {
   "cell_type": "code",
   "execution_count": 1,
   "id": "3f674550",
   "metadata": {},
   "outputs": [
    {
     "name": "stdout",
     "output_type": "stream",
     "text": [
      "18\n"
     ]
    }
   ],
   "source": [
    "def q5(n):\n",
    "    if n==0:\n",
    "        return 0\n",
    "    else:\n",
    "        return 2+q5(n-1)\n",
    "    \n",
    "\n",
    "print(q5(9.0))"
   ]
  },
  {
   "cell_type": "code",
   "execution_count": 2,
   "id": "17c2fcb2",
   "metadata": {},
   "outputs": [
    {
     "name": "stdout",
     "output_type": "stream",
     "text": [
      "[9, 1, 5]\n"
     ]
    }
   ],
   "source": [
    "l1=[8,9,6,4,0,1,4,8,5]\n",
    "\n",
    "def q2(l1):\n",
    "    return [i for i in l1 if i%2]\n",
    "\n",
    "print(q2(l1))"
   ]
  },
  {
   "cell_type": "code",
   "execution_count": 3,
   "id": "8fb0ceda",
   "metadata": {},
   "outputs": [
    {
     "name": "stdout",
     "output_type": "stream",
     "text": [
      "8\n"
     ]
    }
   ],
   "source": [
    "l1=[8,9,6,4,0,1,4,8,5]\n",
    "\n",
    "def q1(l1):\n",
    "    \n",
    "    tm=l1[0]\n",
    "    for i in l1[1:]:\n",
    "        if i>tm:\n",
    "            tm=i\n",
    "    return (tm-1)\n",
    "\n",
    "print(q1(l1))\n"
   ]
  }
 ],
 "metadata": {
  "kernelspec": {
   "display_name": "Python 3 (ipykernel)",
   "language": "python",
   "name": "python3"
  },
  "language_info": {
   "codemirror_mode": {
    "name": "ipython",
    "version": 3
   },
   "file_extension": ".py",
   "mimetype": "text/x-python",
   "name": "python",
   "nbconvert_exporter": "python",
   "pygments_lexer": "ipython3",
   "version": "3.8.12"
  }
 },
 "nbformat": 4,
 "nbformat_minor": 5
}
