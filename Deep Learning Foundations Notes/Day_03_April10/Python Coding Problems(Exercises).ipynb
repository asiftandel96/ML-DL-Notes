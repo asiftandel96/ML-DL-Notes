{
 "cells": [
  {
   "cell_type": "markdown",
   "id": "b05ad8d8",
   "metadata": {},
   "source": [
    "# Python Coding Problem Pratice"
   ]
  },
  {
   "cell_type": "code",
   "execution_count": 38,
   "id": "7f3c1c47",
   "metadata": {},
   "outputs": [
    {
     "name": "stdout",
     "output_type": "stream",
     "text": [
      "Twinkle, twinkle, little star, \n",
      "\tHow I wonder what you are! \n",
      "\t\tUp above the world so high, \n",
      "\t\tLike a diamond in the sky. \n",
      "Twinkle, twinkle, little star, \n",
      "\tHow I wonder what you are\n"
     ]
    }
   ],
   "source": [
    "#1Write a Python program to print the following string in a specific format (see the output)\n",
    "string_text=\"Twinkle, twinkle, little star, \\n\\tHow I wonder what you are! \\n\\t\\tUp above the world so high, \\n\\t\\tLike a diamond in the sky. \\nTwinkle, twinkle, little star, \\n\\tHow I wonder what you are\"\n",
    "print(string_text)"
   ]
  },
  {
   "cell_type": "code",
   "execution_count": 41,
   "id": "bd275d41",
   "metadata": {},
   "outputs": [
    {
     "name": "stdout",
     "output_type": "stream",
     "text": [
      "2014-07-05 14:34:14\n"
     ]
    }
   ],
   "source": [
    "#2. Write a Python program to display the current date and time.\n",
    "\n",
    "import datetime\n",
    "\n",
    "date_no=datetime.datetime(2014,7,5,14,34,14)\n",
    "print(date_no)"
   ]
  },
  {
   "cell_type": "code",
   "execution_count": 46,
   "id": "f16379c9",
   "metadata": {},
   "outputs": [
    {
     "name": "stdout",
     "output_type": "stream",
     "text": [
      "\n",
      "Enter the radius12\n"
     ]
    },
    {
     "data": {
      "text/plain": [
       "452.15999999999997"
      ]
     },
     "execution_count": 46,
     "metadata": {},
     "output_type": "execute_result"
    }
   ],
   "source": [
    "#3.Write a Python program which accepts the radius of a circle from the user and compute the area\n",
    "\n",
    "radius=int(input('\\nEnter the radius'))\n",
    "\n",
    "area=3.14*radius*radius\n",
    "\n",
    "area"
   ]
  },
  {
   "cell_type": "code",
   "execution_count": 52,
   "id": "b73ec37f",
   "metadata": {},
   "outputs": [
    {
     "name": "stdout",
     "output_type": "stream",
     "text": [
      "Enter the first name Asif\n",
      "Enter the last name Tandel\n",
      " Tandel  Asif\n"
     ]
    }
   ],
   "source": [
    "#5. Write a Python program which accepts the user's first and last name and print them\n",
    "#in reverse order with a space between them.\n",
    "\n",
    "first_name=input('Enter the first name')\n",
    "last_name=input('Enter the last name')\n",
    "\n",
    "print(last_name + ' ' + first_name)"
   ]
  },
  {
   "cell_type": "code",
   "execution_count": 61,
   "id": "68ce0aca",
   "metadata": {},
   "outputs": [
    {
     "name": "stdout",
     "output_type": "stream",
     "text": [
      "Enter the list1234\n",
      "['1', '2', '3', '4']\n",
      "('1', '2', '3', '4')\n"
     ]
    }
   ],
   "source": [
    "#6. Write a Python program which accepts a sequence of comma-separated numbers from user \n",
    "#and generate a list and a tuple with those numbers.\n",
    "\n",
    "#Sample data : 3, 5, 7, 23\n",
    "#Output :\n",
    "#List : ['3', ' 5', ' 7', ' 23']\n",
    "#Tuple : ('3', ' 5', ' 7', ' 23')\n",
    "\n",
    "list1=list(input('Enter the list'))\n",
    "print(list1)\n",
    "print(tuple(list1))"
   ]
  },
  {
   "cell_type": "code",
   "execution_count": 93,
   "id": "a4560170",
   "metadata": {},
   "outputs": [
    {
     "name": "stdout",
     "output_type": "stream",
     "text": [
      "Red Black\n"
     ]
    }
   ],
   "source": [
    "#8. Write a Python program to display the first and last colors from the following list\n",
    "\n",
    "color_list = [\"Red\",\"Green\",\"White\" ,\"Black\"]\n",
    "\n",
    "print(color_list[0],color_list[-1])"
   ]
  },
  {
   "cell_type": "code",
   "execution_count": 101,
   "id": "39474c87",
   "metadata": {},
   "outputs": [
    {
     "name": "stdout",
     "output_type": "stream",
     "text": [
      "The examination will start from : 11 / 12 / 2014\n"
     ]
    }
   ],
   "source": [
    "#9. Write a Python program to display the examination schedule\n",
    "\n",
    "exam_st_date = (11,12,2014)\n",
    "print( \"The examination will start from : %i / %i / %i\"%exam_st_date)"
   ]
  },
  {
   "cell_type": "code",
   "execution_count": 119,
   "id": "f0ff0ee7",
   "metadata": {},
   "outputs": [
    {
     "name": "stdout",
     "output_type": "stream",
     "text": [
      "Enter the no5\n",
      "615\n"
     ]
    }
   ],
   "source": [
    "#Write a Python program that accepts an integer (n) and computes the value of n+nn+nnn\n",
    "    \n",
    "a=int(input('Enter the no'))\n",
    "\n",
    "n1=int(\"%s\" %a)\n",
    "n2=int(\"%s%s\" % (a,a))\n",
    "n3=int(\"%s%s%s\" % (a,a,a))\n",
    "print(n1+n2+n3)"
   ]
  },
  {
   "cell_type": "code",
   "execution_count": 121,
   "id": "1921dcc3",
   "metadata": {},
   "outputs": [
    {
     "name": "stdout",
     "output_type": "stream",
     "text": [
      "0\n",
      "10\n"
     ]
    }
   ],
   "source": [
    "#Write a Python program to get the difference between a given number and 17, if the number\n",
    "#is greater than 17 return double the absolute difference.\n",
    "\n",
    "def difference(n):\n",
    "    if n<=17:\n",
    "        return 17-n\n",
    "    else:\n",
    "        return (n-17) * 2\n",
    "    \n",
    "print(difference(17))\n",
    "print(difference(22))"
   ]
  },
  {
   "cell_type": "code",
   "execution_count": 128,
   "id": "b483de80",
   "metadata": {},
   "outputs": [
    {
     "name": "stdout",
     "output_type": "stream",
     "text": [
      "True\n",
      "True\n",
      "False\n",
      "False\n"
     ]
    }
   ],
   "source": [
    "#Write a Python program to test whether a number is within 100 of 1000 or 2000\n",
    "def near_thousand(n):\n",
    "      return ((abs(1000 - n) <= 100) or (abs(2000 - n) <= 100))\n",
    "print(near_thousand(1000))\n",
    "print(near_thousand(900))\n",
    "print(near_thousand(800))   \n",
    "print(near_thousand(2200))"
   ]
  },
  {
   "cell_type": "code",
   "execution_count": 138,
   "id": "69c07907",
   "metadata": {},
   "outputs": [
    {
     "name": "stdout",
     "output_type": "stream",
     "text": [
      "Enter the no1\n",
      "Enter the no1\n",
      "Enter the no1\n",
      "9\n"
     ]
    }
   ],
   "source": [
    "8. #Write a Python program to calculate the sum of three given numbers, \n",
    "#if the values are equal then return three times of their sum\n",
    "\n",
    "\n",
    "a=int(input('Enter the no'))\n",
    "b=int(input('Enter the no'))\n",
    "c=int(input('Enter the no'))\n",
    "\n",
    "if a==b==c:\n",
    "    print(3*(a+b+c))\n",
    "else:\n",
    "    sum=a+b+c\n",
    "    print(sum)"
   ]
  }
 ],
 "metadata": {
  "kernelspec": {
   "display_name": "Python 3 (ipykernel)",
   "language": "python",
   "name": "python3"
  },
  "language_info": {
   "codemirror_mode": {
    "name": "ipython",
    "version": 3
   },
   "file_extension": ".py",
   "mimetype": "text/x-python",
   "name": "python",
   "nbconvert_exporter": "python",
   "pygments_lexer": "ipython3",
   "version": "3.8.12"
  }
 },
 "nbformat": 4,
 "nbformat_minor": 5
}
