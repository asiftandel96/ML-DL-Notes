{
 "cells": [
  {
   "cell_type": "markdown",
   "metadata": {
    "id": "T3dYYrlNsA3t"
   },
   "source": [
    "\n",
    "## Open Source Deep Learning Frameworks\n",
    "\n",
    "Deep learnings is made accessible by a number of open source projects. Some of the most popular technologies include, but are not limited to, Deeplearning4j (DL4j), Theano, Torch, TensorFlow, and Caffe. The deciding factors on which one to use are the tech stack they target, and if they are low-level, academic, or application focused. Here’s an overview of each:\n",
    "\n",
    "DL4J:\n",
    "\n",
    "   * JVM-based\n",
    "   * Distrubted\n",
    "   * Integrates with Hadoop and Spark\n",
    "   \n",
    "   \n",
    "Theano:\n",
    "\n",
    "   * Very popular in Academia\n",
    "   * Fairly low level\n",
    "   * Interfaced with via Python and Numpy\n",
    "\n",
    "\n",
    "Torch:\n",
    "\n",
    "   * Lua based\n",
    "   * In house versions used by Facebook and Twitter\n",
    "   * Contains pretrained models\n",
    "\n",
    "\n",
    "TensorFlow:\n",
    "\n",
    "   * Google written successor to Theano\n",
    "   * Interfaced with via Python and Numpy\n",
    "   * Highly parallel\n",
    "   * Can be somewhat slow for certain problem sets\n",
    "\n",
    "\n",
    "\n",
    "Caffe:\n",
    "\n",
    "   * Not general purpose. Focuses on machine-vision problems\n",
    "   * Implemented in C++ and is very fast\n",
    "   * Not easily extensible\n",
    "   * Has a Python interface"
   ]
  },
  {
   "cell_type": "markdown",
   "metadata": {
    "id": "2zVIlN7HsA3z"
   },
   "source": [
    "## Brief installation of Tensorflow"
   ]
  },
  {
   "cell_type": "markdown",
   "metadata": {
    "id": "T5qwM0ctsA3z"
   },
   "source": [
    ">TensorFlow is tested and supported on the following 64-bit systems:\n",
    "\n",
    ">1.Ubuntu 16.04 or later\n",
    "\n",
    ">2.Windows 7 or later\n",
    "\n",
    ">3.macOS 10.12.6 (Sierra) or later (no GPU support)\n",
    "\n",
    ">4.Raspbian 9.0 or later"
   ]
  },
  {
   "cell_type": "markdown",
   "metadata": {
    "id": "DGelxnS4sA3z"
   },
   "source": [
    "> **pip install tensorflow==2.0.0**\n",
    "\n",
    "> To run from Anaconda Prompt\n",
    "\n",
    "> **!pip install tensorflow==2.0.0**\n",
    "\n",
    "> To run from Jupyter Notebook"
   ]
  },
  {
   "cell_type": "markdown",
   "metadata": {
    "id": "uZrFZCfisA30"
   },
   "source": [
    "`Both Tensorflow 2.0 and Keras have been released for four years (Keras was released in March 2015, and Tensorflow was released in November of the same year). The rapid development of deep learning in the past days, we also know some problems of Tensorflow1.x and Keras:`\n",
    "\n",
    "* Using Tensorflow means programming static graphs, which is difficult and inconvenient for programs that are familiar with imperative programming\n",
    "\n",
    "* Tensorflow api is powerful and flexible, but it is more complex, confusing and difficult to use.\n",
    "\n",
    "* Keras api is productive and easy to use, but lacks flexibility for research\n"
   ]
  },
  {
   "cell_type": "markdown",
   "metadata": {
    "id": "kg6TtjNUsA30"
   },
   "source": [
    "#### Official docs link for [DETAILED INSTALLATION STEPS](https://www.tensorflow.org/install) for Tensorflow 2"
   ]
  },
  {
   "cell_type": "code",
   "execution_count": 1,
   "metadata": {
    "id": "hrIQY60-sA30"
   },
   "outputs": [],
   "source": [
    "# Verify installation - \n",
    "import tensorflow as tf"
   ]
  },
  {
   "cell_type": "code",
   "execution_count": 2,
   "metadata": {
    "id": "wipiHoF6sA31",
    "outputId": "c8443fff-3e51-4679-8876-5a98355ee1c3"
   },
   "outputs": [
    {
     "name": "stdout",
     "output_type": "stream",
     "text": [
      "Tensorflow Version: 2.3.1\n",
      "Keras Version: 2.4.0\n"
     ]
    }
   ],
   "source": [
    "print(f\"Tensorflow Version: {tf.__version__}\")\n",
    "print(f\"Keras Version: {tf.keras.__version__}\")"
   ]
  },
  {
   "cell_type": "markdown",
   "metadata": {
    "id": "o8BGoMgosA32"
   },
   "source": [
    "`Tensorflow2.0 is a combination design of Tensorflow1.x and Keras. Considering user feedback and framework development over the past four years, it largely solves the above problems and will become the future machine learning platform.`\n",
    "\n",
    "> Tensorflow 2.0 is built on the following core ideas:\n",
    "\n",
    "\n",
    "* The coding is more pythonic, so that users can get the results immediately like they are programming in numpy\n",
    "* Retaining the characteristics of static graphs (for performance, distributed, and production deployment), this makes TensorFlow fast, scalable, and ready for production.\n",
    "* Using Keras as a high-level API for deep learning, making Tensorflow easy to use and efficient\n",
    "* Make the entire framework both high-level features (easy to use, efficient, and not flexible) and low-level features (powerful and scalable, not easy to use, but very flexible)"
   ]
  },
  {
   "cell_type": "markdown",
   "metadata": {
    "id": "uhUIEhILsA32"
   },
   "source": [
    ">Eager execution is by default in TensorFlow 2.0 and, it needs no special setup.\n",
    ">The following below code can be used to find out whether a CPU or GPU is in use"
   ]
  },
  {
   "cell_type": "markdown",
   "metadata": {
    "id": "dbdQ9UbnsA32"
   },
   "source": [
    "### GPU/CPU Check"
   ]
  },
  {
   "cell_type": "code",
   "execution_count": 3,
   "metadata": {
    "id": "DP-t8UzOsA33",
    "outputId": "a9cee4a0-a347-41b8-a2cc-c27f600bed7e",
    "scrolled": true
   },
   "outputs": [
    {
     "data": {
      "text/plain": [
       "[]"
      ]
     },
     "execution_count": 3,
     "metadata": {},
     "output_type": "execute_result"
    }
   ],
   "source": [
    "tf.config.list_physical_devices('GPU')"
   ]
  },
  {
   "cell_type": "code",
   "execution_count": 4,
   "metadata": {
    "id": "aEdFu-X6sA33",
    "outputId": "54210ebd-d78e-4709-bf4b-af91d2829b42"
   },
   "outputs": [
    {
     "data": {
      "text/plain": [
       "[PhysicalDevice(name='/physical_device:CPU:0', device_type='CPU')]"
      ]
     },
     "execution_count": 4,
     "metadata": {},
     "output_type": "execute_result"
    }
   ],
   "source": [
    "tf.config.list_physical_devices('CPU')"
   ]
  },
  {
   "cell_type": "code",
   "execution_count": 5,
   "metadata": {
    "id": "7qQ1e472sA33",
    "outputId": "98e4ab02-6acf-4d57-e11d-bcbe8246fafa"
   },
   "outputs": [
    {
     "name": "stdout",
     "output_type": "stream",
     "text": [
      "GPU not available\n",
      "CPU is available\n",
      "details\n",
      " [PhysicalDevice(name='/physical_device:CPU:0', device_type='CPU')]\n"
     ]
    }
   ],
   "source": [
    "CheckList = [\"GPU\", \"CPU\"]\n",
    "for device in CheckList:\n",
    "    out_ = tf.config.list_physical_devices(device)    \n",
    "    if len(out_) > 0:\n",
    "        print(f\"{device} is available\")        \n",
    "        print(\"details\\n\",out_)\n",
    "    else:\n",
    "        print(f\"{device} not available\")"
   ]
  },
  {
   "cell_type": "markdown",
   "metadata": {
    "id": "uZpFqHXhsA34"
   },
   "source": [
    "## A simple classifier using Keras's Sequential API"
   ]
  },
  {
   "cell_type": "code",
   "execution_count": 6,
   "metadata": {
    "id": "70sPK_WgsA34"
   },
   "outputs": [],
   "source": [
    "import numpy as np\n",
    "import matplotlib.pyplot as plt\n",
    "import pandas as pd\n",
    "import os\n",
    "#import tensorflow as tf\n",
    "import seaborn as sns"
   ]
  },
  {
   "cell_type": "markdown",
   "metadata": {
    "id": "KBttaP6PsA34"
   },
   "source": [
    "### Working on mnist dataset - \n",
    "\n",
    "* This dataset contains handwritten digits. \n",
    "* It has 10 classes i.e. 0 to 9\n",
    "* Each data point is 2D array of 28x28 size.\n",
    "* Also known as hello world dataset for ANN\n",
    "\n",
    "[image source](https://en.wikipedia.org/wiki/MNIST_database#/media/File:MnistExamples.png)\n",
    "\n",
    "![](https://upload.wikimedia.org/wikipedia/commons/2/27/MnistExamples.png)"
   ]
  },
  {
   "cell_type": "code",
   "execution_count": 7,
   "metadata": {
    "id": "iw5Nn1hVsA34"
   },
   "outputs": [],
   "source": [
    "# Keras has already contains mnist dataset \n",
    "# Loading mnist data using Keras\n",
    "\n",
    "mnist = tf.keras.datasets.mnist\n",
    "(X_train_full, y_train_full), (X_test, y_test) = mnist.load_data()"
   ]
  },
  {
   "cell_type": "code",
   "execution_count": 8,
   "metadata": {
    "id": "UvZvs5w9sA35",
    "outputId": "41853a60-0417-4b0e-cd5a-58e590df1aef"
   },
   "outputs": [
    {
     "name": "stdout",
     "output_type": "stream",
     "text": [
      "data type of X_train_full: uint8,\n",
      "shape of X_train_full: (60000, 28, 28)\n"
     ]
    }
   ],
   "source": [
    "print(f\"data type of X_train_full: {X_train_full.dtype},\\nshape of X_train_full: {X_train_full.shape}\")"
   ]
  },
  {
   "cell_type": "code",
   "execution_count": 9,
   "metadata": {
    "id": "q7BKjVM8sA35"
   },
   "outputs": [],
   "source": [
    "# create a validation data set from the full training data \n",
    "# Scale the data between 0 to 1 by dividing it by 255. as its an unsigned data between 0-255 range\n",
    "X_valid, X_train = X_train_full[:5000] / 255., X_train_full[5000:] / 255.\n",
    "y_valid, y_train = y_train_full[:5000], y_train_full[5000:]\n",
    "\n",
    "# scale the test set as well\n",
    "X_test = X_test / 255.\n"
   ]
  },
  {
   "cell_type": "code",
   "execution_count": 10,
   "metadata": {
    "id": "XxT1iwLVsA35",
    "outputId": "36e1a5b5-f698-422e-bf6d-28d28ddd57be"
   },
   "outputs": [
    {
     "data": {
      "image/png": "[encoded data removed]",
      "text/plain": [
       "<Figure size 432x288 with 1 Axes>"
      ]
     },
     "metadata": {
      "needs_background": "light"
     },
     "output_type": "display_data"
    }
   ],
   "source": [
    "# lets view the first data point of X_train\n",
    "plt.imshow(X_train[0], cmap=\"binary\")\n",
    "plt.axis('off')\n",
    "plt.show()\n"
   ]
  },
  {
   "cell_type": "code",
   "execution_count": 11,
   "metadata": {
    "id": "L2lGRPBAsA35",
    "outputId": "caed0f1f-420a-4682-d3ab-ad9f7ec7ac1b"
   },
   "outputs": [
    {
     "data": {
      "text/plain": [
       "<AxesSubplot:>"
      ]
     },
     "execution_count": 11,
     "metadata": {},
     "output_type": "execute_result"
    },
    {
     "data": {
      "image/png": "[encoded data removed]",
      "text/plain": [
       "<Figure size 1080x1080 with 2 Axes>"
      ]
     },
     "metadata": {
      "needs_background": "light"
     },
     "output_type": "display_data"
    }
   ],
   "source": [
    "plt.figure(figsize=(15,15))\n",
    "sns.heatmap(X_train[0], annot=True, cmap=\"binary\")"
   ]
  },
  {
   "cell_type": "code",
   "execution_count": 12,
   "metadata": {
    "id": "EQ_uXBg7sA36",
    "outputId": "b3f8bb17-722f-4578-e7fe-91000676c8c2"
   },
   "outputs": [
    {
     "data": {
      "text/plain": [
       "7"
      ]
     },
     "execution_count": 12,
     "metadata": {},
     "output_type": "execute_result"
    }
   ],
   "source": [
    "# actual value of y_train\n",
    "y_train[0]"
   ]
  },
  {
   "cell_type": "code",
   "execution_count": 13,
   "metadata": {
    "id": "qlGjf0KlsA36"
   },
   "outputs": [],
   "source": [
    "LAYERS = [tf.keras.layers.Flatten(input_shape=[28, 28], name=\"inputLayer\"),\n",
    "          tf.keras.layers.Dense(300, activation=\"relu\", name=\"hiddenLayer1\"),\n",
    "          tf.keras.layers.Dense(100, activation=\"relu\", name=\"hiddenLayer2\"),\n",
    "          tf.keras.layers.Dense(10, activation=\"softmax\", name=\"outputLayer\")]\n",
    "\n",
    "model_clf = tf.keras.models.Sequential(LAYERS)"
   ]
  },
  {
   "cell_type": "markdown",
   "metadata": {
    "id": "ef4WI_5VsA36"
   },
   "source": [
    "#### Altenative 1\n",
    "\n",
    "```python\n",
    "model = tf.keras.models.Sequential()\n",
    "model.add(tf.keras.layers.Flatten(input_shape=[28, 28]))\n",
    "model.add(tf.keras.layers.Dense(300, activation=\"relu\"))\n",
    "model.add(tf.keras.layers.Dense(100, activation=\"relu\"))\n",
    "model.add(tf.keras.layers.Dense(10, activation=\"softmax\"))\n",
    "\n",
    "```"
   ]
  },
  {
   "cell_type": "markdown",
   "metadata": {
    "id": "C2VM_SHbsA36"
   },
   "source": [
    "#### Alternative 2\n",
    "\n",
    "```python\n",
    "model = tf.keras.models.Sequential([\n",
    "    tf.keras.layers.Flatten(input_shape=[28, 28]),\n",
    "    tf.keras.layers.Dense(300, activation=\"relu\"),\n",
    "    tf.keras.layers.Dense(100, activation=\"relu\"),\n",
    "    tf.keras.layers.Dense(10, activation=\"softmax\")\n",
    "])\n",
    "```"
   ]
  },
  {
   "cell_type": "markdown",
   "metadata": {
    "id": "ITyOihV9sA37"
   },
   "source": [
    "### For custom weights initialiser or setting weights \n",
    "refer [here](https://keras.io/api/layers/base_layer/#setweights-method)"
   ]
  },
  {
   "cell_type": "code",
   "execution_count": 35,
   "metadata": {
    "id": "tWVdA9JWsA37",
    "outputId": "7a353f5d-7c05-4aa9-bbdb-82ac11dfb944"
   },
   "outputs": [
    {
     "data": {
      "text/plain": [
       "[<tensorflow.python.keras.layers.core.Flatten at 0x169b2042e80>,\n",
       " <tensorflow.python.keras.layers.core.Dense at 0x169b2060250>,\n",
       " <tensorflow.python.keras.layers.core.Dense at 0x169b20605b0>,\n",
       " <tensorflow.python.keras.layers.core.Dense at 0x169b2060910>]"
      ]
     },
     "execution_count": 35,
     "metadata": {},
     "output_type": "execute_result"
    }
   ],
   "source": [
    "model_clf.layers"
   ]
  },
  {
   "cell_type": "code",
   "execution_count": 38,
   "metadata": {},
   "outputs": [
    {
     "data": {
      "text/plain": [
       "[array([[ 0.04777863,  0.00361472,  0.00496715, ...,  0.07188107,\n",
       "         -0.00914919, -0.07196407],\n",
       "        [ 0.02734764,  0.06348729, -0.03302194, ...,  0.04878709,\n",
       "          0.00488582, -0.06276483],\n",
       "        [-0.00917581, -0.05691288,  0.04024088, ..., -0.01472648,\n",
       "         -0.0352909 , -0.04559099],\n",
       "        ...,\n",
       "        [-0.02365714,  0.01517922, -0.05328022, ...,  0.01061208,\n",
       "          0.06597225,  0.0167707 ],\n",
       "        [ 0.04925957,  0.05787884, -0.06366865, ...,  0.01595059,\n",
       "          0.03631122, -0.07252695],\n",
       "        [-0.002328  , -0.04501433, -0.06110969, ...,  0.02914705,\n",
       "          0.04517711,  0.045482  ]], dtype=float32),\n",
       " array([ 3.65796983e-02,  2.86372565e-02, -2.60232086e-03,  1.73158422e-02,\n",
       "        -4.35716286e-02,  1.09043634e-02, -1.41905751e-02,  3.73996831e-02,\n",
       "        -3.98153774e-02,  1.10072475e-02, -4.41858405e-03,  3.48981656e-02,\n",
       "         4.21330109e-02, -6.55504763e-02, -5.98851964e-03,  1.70239508e-02,\n",
       "         4.60871607e-02, -2.42321696e-02,  1.00288736e-02,  2.55416129e-02,\n",
       "         9.56748892e-03, -3.93927190e-03,  2.46109953e-03, -1.10457866e-02,\n",
       "         3.56189255e-03, -1.58616137e-02,  6.42209221e-03, -7.88564980e-03,\n",
       "        -4.93285898e-03,  3.41630876e-02, -1.29346950e-02,  3.40739489e-02,\n",
       "        -2.83118079e-05,  4.29756194e-02,  7.32794032e-03, -1.63909290e-02,\n",
       "         4.49746884e-02,  5.26083931e-02, -1.24144116e-02,  3.52316513e-03,\n",
       "         1.86392926e-02, -3.86563572e-03,  6.92818463e-02,  2.83939708e-02,\n",
       "         3.54422778e-02, -3.53790931e-02, -1.73825584e-02,  1.26930540e-02,\n",
       "         2.61735227e-02,  3.52155119e-02,  3.55327167e-02, -2.50247736e-02,\n",
       "        -1.08922049e-02, -3.23549588e-03,  7.30622336e-02,  2.76070368e-03,\n",
       "         1.41370483e-02,  3.10439300e-02,  3.84167623e-04,  1.10229393e-02,\n",
       "         1.54605070e-02, -3.38832801e-03,  1.83874667e-02,  3.04157287e-02,\n",
       "        -6.25518197e-03,  1.88466385e-02, -3.59217543e-03, -6.51715994e-02,\n",
       "         9.02112853e-03,  1.07950764e-02, -1.51961586e-02,  8.22834224e-02,\n",
       "         4.21495810e-02,  8.13742802e-02,  3.61101069e-02,  3.49032804e-02,\n",
       "        -2.17087008e-02, -4.48591560e-02, -4.69849296e-02, -4.65534069e-02,\n",
       "         2.33747400e-02,  4.21234705e-02,  2.03908235e-02,  1.54485251e-03,\n",
       "         4.96920645e-02, -1.78835209e-04,  3.55812982e-02,  1.49897244e-02,\n",
       "         3.20036523e-02, -4.10023034e-02, -7.06368461e-02,  9.83050093e-03,\n",
       "        -2.51270318e-03,  6.59528822e-02,  5.88884875e-02, -1.39959017e-02,\n",
       "        -5.00758328e-02, -7.60276150e-03,  2.63948664e-02,  1.70818660e-02,\n",
       "        -2.88843270e-02, -4.37432937e-02, -2.77954638e-02, -2.93747871e-03,\n",
       "         2.13718284e-02, -1.02403918e-02,  2.09725611e-02,  7.60487141e-03,\n",
       "         3.21021378e-02,  2.43080757e-03,  6.43797666e-02,  2.64777523e-02,\n",
       "         5.36759086e-02, -1.90224231e-03, -2.04235408e-02, -1.63963027e-02,\n",
       "        -4.71732160e-03,  2.42740382e-02,  1.65471081e-02,  6.51680678e-03,\n",
       "         7.08841532e-03,  7.06259236e-02,  7.44497450e-03,  6.52070809e-03,\n",
       "         1.62019464e-03, -2.71696108e-03,  4.55067754e-02,  9.75222967e-04,\n",
       "         9.37123597e-03,  3.67799625e-02,  3.95386554e-02,  2.80064456e-02,\n",
       "        -2.50422936e-02, -9.65713523e-03,  6.51169494e-02,  4.78769913e-02,\n",
       "         6.70037977e-03,  7.83217251e-02,  9.53853410e-03,  1.67555865e-02,\n",
       "         9.53059457e-03, -8.90409065e-05,  1.26687884e-02,  2.09728722e-02,\n",
       "         2.56683305e-02,  1.18408827e-02, -6.91357302e-04,  2.06558704e-02,\n",
       "         1.54457791e-02, -2.35131383e-02, -2.27311486e-03,  4.29406166e-02,\n",
       "         5.05428910e-02,  3.21125761e-02,  4.23716530e-02, -1.97164398e-02,\n",
       "         7.10146427e-02, -2.89340336e-02,  3.16844620e-02,  2.62195594e-03,\n",
       "         1.37473885e-02,  2.86291689e-02,  4.12437059e-02, -1.40011655e-02,\n",
       "        -3.89355863e-03,  2.15666629e-02, -4.62594330e-02,  1.26817198e-02,\n",
       "         3.21860276e-02,  2.26963265e-03, -9.99900606e-03,  4.10226882e-02,\n",
       "         6.22865222e-02, -8.64181574e-03,  3.32238004e-02,  5.39906649e-03,\n",
       "         2.65167560e-02,  2.37532016e-02,  3.11973765e-02,  6.06999770e-02,\n",
       "         1.03553822e-02, -6.19890988e-02, -1.64974872e-02,  9.67663527e-02,\n",
       "         3.62677053e-02, -1.26687279e-02,  2.05903482e-02,  1.62965693e-02,\n",
       "        -2.77888626e-02,  7.31930556e-03,  1.63109396e-02, -4.91694547e-03,\n",
       "         2.48613823e-02, -1.29431877e-02,  4.49888222e-02,  2.34738141e-02,\n",
       "         1.05574820e-03, -3.08115277e-02,  4.93167676e-02,  6.79543568e-03,\n",
       "         1.76798198e-02,  1.96206681e-02,  3.90001200e-02,  3.03303190e-02,\n",
       "         3.73600684e-02, -4.09197994e-02,  8.20343732e-04, -2.76343562e-02,\n",
       "         1.66305490e-02,  2.38285009e-02, -9.27012507e-03,  4.81961146e-02,\n",
       "         2.90380083e-02, -5.96739240e-02,  1.57129019e-02,  4.74081095e-03,\n",
       "        -6.05499372e-03,  4.15240638e-02,  3.59949563e-03,  3.37966979e-02,\n",
       "         6.78517967e-02,  2.29643509e-02,  5.77978641e-02,  9.30772442e-03,\n",
       "         7.01816380e-03, -8.49055406e-03, -5.74141257e-02, -1.24178017e-02,\n",
       "         4.40923050e-02,  9.57816094e-03,  2.13640556e-02,  4.34520319e-02,\n",
       "         7.64055848e-02,  4.46642078e-02,  1.58173945e-02, -1.05749443e-03,\n",
       "        -5.35066379e-03,  1.31868301e-02,  4.18203883e-03,  3.35273966e-02,\n",
       "         3.29198353e-02,  5.16910516e-02,  8.16185959e-03, -2.67049111e-02,\n",
       "         1.87430009e-02, -4.32246190e-04,  5.74467180e-04, -1.49494931e-02,\n",
       "         5.55517636e-02,  6.53157337e-03, -6.12511812e-03, -1.00189438e-02,\n",
       "        -1.86022129e-02,  3.75276292e-03,  1.11453775e-02,  8.04424472e-03,\n",
       "        -1.95694026e-02, -5.20294756e-02,  1.16538852e-02, -1.03252083e-02,\n",
       "        -2.19916701e-02,  2.31472254e-02,  1.12249777e-02,  8.53248537e-02,\n",
       "         6.93607330e-03,  3.54256271e-03, -1.10528711e-02,  1.64709594e-02,\n",
       "         3.46236229e-02,  1.10090915e-02,  5.20087108e-02, -3.72357406e-02,\n",
       "         2.86943074e-02,  4.94432263e-02, -1.08864093e-02,  1.90711431e-02,\n",
       "         6.06311634e-02, -2.54695695e-02, -2.56082974e-02,  2.14937162e-02,\n",
       "         1.27367710e-03,  4.85291258e-02,  1.17045883e-02,  4.42100577e-02,\n",
       "        -9.63014457e-03,  3.73193286e-02,  5.65667041e-02,  1.27080772e-02,\n",
       "         7.25785345e-02,  9.60410014e-03,  3.71469110e-02, -2.73055732e-02,\n",
       "        -2.81381905e-02,  4.04953323e-02, -6.00592345e-02,  2.27691140e-02,\n",
       "         4.15908266e-03,  1.54358810e-02, -4.43632193e-02, -1.13767618e-02],\n",
       "       dtype=float32),\n",
       " array([[ 0.08250256, -0.11113878, -0.0664681 , ..., -0.03425252,\n",
       "          0.07784157,  0.00249899],\n",
       "        [ 0.13675202, -0.02639639, -0.11027799, ..., -0.05864384,\n",
       "          0.06399784, -0.03470793],\n",
       "        [ 0.03911513, -0.03599282, -0.01356086, ..., -0.05568845,\n",
       "          0.04466599,  0.09934986],\n",
       "        ...,\n",
       "        [ 0.01973087,  0.03408658, -0.00197806, ...,  0.02605609,\n",
       "          0.10687385, -0.06806742],\n",
       "        [ 0.00803343, -0.00053872, -0.09251089, ..., -0.0857542 ,\n",
       "         -0.01201126,  0.03685241],\n",
       "        [ 0.05111347,  0.17115238, -0.04260417, ..., -0.14521761,\n",
       "          0.12250701,  0.1351776 ]], dtype=float32),\n",
       " array([ 0.02428388,  0.0131995 ,  0.03713052,  0.00333603,  0.01412429,\n",
       "         0.00900626, -0.01112244,  0.07556918,  0.02804969,  0.01246923,\n",
       "         0.00033869,  0.01766974, -0.00069236, -0.00484089,  0.03708609,\n",
       "         0.04450937,  0.05519494,  0.02065574, -0.01078343,  0.02299678,\n",
       "         0.01150328,  0.04689329,  0.04239623,  0.02132672,  0.02619194,\n",
       "         0.01614941, -0.00371709,  0.06747688,  0.04391479,  0.02258227,\n",
       "        -0.00671482,  0.00522997,  0.03302994, -0.00094542,  0.022476  ,\n",
       "        -0.00379777,  0.03689596, -0.01250766,  0.00818293,  0.04231646,\n",
       "         0.03421684,  0.03799903,  0.05219574,  0.03025189,  0.02676586,\n",
       "         0.03040212,  0.01182473,  0.0098227 ,  0.01943363,  0.00696737,\n",
       "         0.00802997, -0.0025813 , -0.00253685,  0.02013109,  0.01722485,\n",
       "        -0.0122904 ,  0.00231924, -0.02849558, -0.00153172, -0.01079583,\n",
       "         0.07478467,  0.04035548, -0.00466273,  0.02072984, -0.00324352,\n",
       "         0.02129295, -0.00805118,  0.07013898,  0.00457019, -0.00341823,\n",
       "         0.01666562, -0.01796445,  0.00960614,  0.05215381,  0.0129051 ,\n",
       "         0.07316217,  0.00184276, -0.00644028,  0.0696805 , -0.00423302,\n",
       "         0.04726058, -0.01439658,  0.00327737,  0.0049812 ,  0.07896362,\n",
       "         0.0856019 , -0.00607143,  0.00514636,  0.0889644 , -0.01554804,\n",
       "        -0.00848477,  0.07115021,  0.03582393, -0.00433841, -0.01840503,\n",
       "        -0.02420387,  0.0222591 ,  0.02665067,  0.03878803,  0.045452  ],\n",
       "       dtype=float32),\n",
       " array([[-3.41804743e-01, -7.06766695e-02,  6.10542037e-02,\n",
       "          4.90073323e-01,  1.58609462e-03,  2.02833295e-01,\n",
       "          1.09974276e-02,  2.30634391e-01,  1.38189316e-01,\n",
       "         -8.57761689e-03],\n",
       "        [ 3.91741663e-01,  3.36537272e-01, -1.19255558e-01,\n",
       "         -1.47075221e-01,  3.16251785e-01, -5.62267661e-01,\n",
       "          1.96110219e-01,  4.64900047e-01, -4.86679524e-01,\n",
       "         -1.24793902e-01],\n",
       "        [-1.74831599e-01,  1.55667052e-01,  3.63210350e-01,\n",
       "         -2.08230689e-02, -5.21960616e-01, -1.66553229e-01,\n",
       "          1.31508827e-01,  2.70354599e-01,  1.55457988e-01,\n",
       "         -7.34755769e-02],\n",
       "        [ 4.48215008e-02,  5.55819035e-01, -3.49760652e-01,\n",
       "          5.94447888e-02,  3.77812624e-01, -5.13391733e-01,\n",
       "          2.09344909e-01,  1.99892953e-01, -2.46145636e-01,\n",
       "          8.90762359e-03],\n",
       "        [ 3.06506664e-01, -3.23569834e-01,  1.37019336e-01,\n",
       "         -1.13393374e-01, -3.80537331e-01,  1.79505289e-01,\n",
       "          3.28847021e-01, -3.17707449e-01, -1.43346384e-01,\n",
       "          3.80269825e-01],\n",
       "        [ 1.48938850e-01,  1.21259503e-01,  2.34711930e-01,\n",
       "          4.87969108e-02, -2.78193533e-01,  8.64938945e-02,\n",
       "         -2.58705821e-02, -4.01059151e-01,  1.17360063e-01,\n",
       "          2.62182683e-01],\n",
       "        [ 2.54737407e-01, -4.78766203e-01, -2.23007575e-01,\n",
       "          2.31848940e-01,  6.87986687e-02,  1.83729887e-01,\n",
       "         -2.79939383e-01,  3.34508270e-01,  2.94393331e-01,\n",
       "          3.83266538e-01],\n",
       "        [-1.83693588e-01,  1.78008467e-01, -5.99410474e-01,\n",
       "         -3.76076996e-01,  3.58903781e-02,  1.64259955e-01,\n",
       "          3.84012550e-01, -4.44678038e-01,  1.61663339e-01,\n",
       "          2.57773846e-01],\n",
       "        [-1.59117371e-01, -3.70273949e-03,  1.65237531e-01,\n",
       "         -1.19246133e-01,  4.59986389e-01, -3.67767423e-01,\n",
       "          1.00301467e-01,  3.03984433e-02,  1.58363372e-01,\n",
       "         -2.58154541e-01],\n",
       "        [ 3.09169233e-01, -1.03544459e-01,  3.52974236e-01,\n",
       "         -9.68013033e-02,  1.28025804e-02, -2.85774857e-01,\n",
       "          3.01865861e-02, -2.28408530e-01,  1.51311308e-01,\n",
       "         -7.60335252e-02],\n",
       "        [-1.93002939e-01,  2.81476956e-02, -1.19102951e-02,\n",
       "         -2.00720713e-01, -9.94153470e-02, -5.94456084e-02,\n",
       "          1.72028705e-01,  5.03702424e-02,  5.56015410e-02,\n",
       "         -1.32154658e-01],\n",
       "        [-1.87695995e-01, -9.78444591e-02, -3.81734997e-01,\n",
       "          3.90130401e-01,  2.38858715e-01,  4.26568478e-01,\n",
       "         -8.80641714e-02,  7.38307610e-02, -3.49857390e-01,\n",
       "          8.88933390e-02],\n",
       "        [ 5.19135818e-02,  1.32845595e-01, -1.16326518e-01,\n",
       "         -6.39593527e-02,  7.21801817e-02,  2.05960587e-01,\n",
       "         -1.41592994e-01,  1.04431510e-01, -5.28566241e-02,\n",
       "          5.95951714e-02],\n",
       "        [ 2.38378450e-01, -7.56368339e-02, -3.87967438e-01,\n",
       "          3.78240556e-01,  2.85589218e-01, -1.69372410e-01,\n",
       "          2.62987584e-01, -3.05157393e-01, -2.97074467e-01,\n",
       "          1.86610430e-01],\n",
       "        [-1.74615473e-01, -2.99037337e-01, -3.71247083e-01,\n",
       "         -3.14302623e-01,  6.97144449e-01, -3.23813140e-01,\n",
       "         -2.35209972e-01, -7.24215340e-03,  1.33557856e-01,\n",
       "          3.77577171e-02],\n",
       "        [-5.29261768e-01,  2.68779188e-01, -3.76754791e-01,\n",
       "          2.51791120e-01, -2.87313074e-01,  6.00691199e-01,\n",
       "         -2.39210114e-01,  6.37005270e-01, -4.89635877e-02,\n",
       "         -4.76786971e-01],\n",
       "        [-3.27637553e-01, -3.44589800e-01,  3.77950042e-01,\n",
       "         -1.67252675e-01,  2.73036927e-01,  2.65026063e-01,\n",
       "          2.44453490e-01,  9.12232101e-02, -2.41335630e-01,\n",
       "         -4.49951768e-01],\n",
       "        [-1.98565811e-01, -2.14155093e-02, -4.01329160e-01,\n",
       "         -2.73239464e-01,  3.79951566e-01, -3.31476122e-01,\n",
       "         -3.92874002e-01, -1.52415752e-01,  2.63100386e-01,\n",
       "          5.93523383e-01],\n",
       "        [-1.40053019e-01,  1.71219662e-01,  2.44585991e-01,\n",
       "          2.60385901e-01, -1.65638864e-01, -2.58138090e-01,\n",
       "         -3.35113198e-01,  4.78908986e-01, -4.10753310e-01,\n",
       "          2.33855188e-01],\n",
       "        [ 2.51013637e-01,  9.09027830e-02,  4.43941474e-01,\n",
       "          3.02061796e-01, -2.23319471e-01, -6.43099099e-02,\n",
       "         -1.84006363e-01, -5.24727941e-01,  5.10011792e-01,\n",
       "         -9.16424692e-02],\n",
       "        [ 1.64432764e-01, -1.69745252e-01,  3.87876004e-01,\n",
       "         -9.38837901e-02, -2.75291741e-01, -2.15495631e-01,\n",
       "          3.89443785e-01,  1.99490592e-01, -5.33866510e-02,\n",
       "         -3.27528983e-01],\n",
       "        [-1.51781932e-01, -2.13892654e-01,  3.13140094e-01,\n",
       "          1.97523236e-01,  3.24657589e-01,  2.69322600e-02,\n",
       "          3.67384367e-02,  1.90762460e-01, -4.04047161e-01,\n",
       "         -2.30920300e-01],\n",
       "        [ 6.23805933e-02, -4.79738079e-02,  2.92100847e-01,\n",
       "          3.96764278e-01, -6.19872928e-01,  3.55876952e-01,\n",
       "          2.05826312e-01, -1.05240934e-01, -3.44652474e-01,\n",
       "          1.54097348e-01],\n",
       "        [ 2.44944602e-01,  1.96872607e-01, -3.56205076e-01,\n",
       "          3.41990054e-01, -4.47151572e-01,  3.55420262e-01,\n",
       "         -1.17811598e-01,  3.36092234e-01, -1.50443926e-01,\n",
       "          4.38938430e-03],\n",
       "        [ 7.80828595e-02,  1.06343493e-01,  1.09502040e-01,\n",
       "         -7.05991313e-02,  2.50468522e-01,  1.49182141e-01,\n",
       "          3.08453172e-01,  2.01636657e-01, -5.51177144e-01,\n",
       "          3.22405636e-01],\n",
       "        [ 4.65274639e-02, -3.90296280e-01,  3.18029970e-01,\n",
       "          2.97997892e-02,  3.81312251e-01, -1.80369899e-01,\n",
       "          3.13597888e-01,  1.04268119e-01,  2.64743030e-01,\n",
       "         -2.13151053e-02],\n",
       "        [ 1.57835618e-01, -1.28086552e-01, -5.20248190e-02,\n",
       "         -9.23985615e-02,  1.67016219e-02, -1.08615614e-01,\n",
       "         -4.43074815e-02, -8.88531655e-02,  9.75605547e-02,\n",
       "          7.74041638e-02],\n",
       "        [ 5.09354591e-01, -6.47256821e-02,  2.72995643e-02,\n",
       "         -1.50818199e-01, -6.39005125e-01,  7.70253956e-01,\n",
       "         -9.72532928e-02, -4.49951500e-01, -6.30486086e-02,\n",
       "         -6.33656681e-02],\n",
       "        [-6.59754053e-02, -4.47947681e-01, -1.25778496e-01,\n",
       "         -2.59210050e-01, -3.21926683e-01,  1.63880095e-01,\n",
       "          6.56274185e-02,  1.88355833e-01,  1.96580812e-02,\n",
       "          4.64561105e-01],\n",
       "        [ 9.49953869e-03,  1.90951541e-01,  5.55115581e-01,\n",
       "          3.26819748e-01, -5.13207138e-01, -3.86096150e-01,\n",
       "          1.99179932e-01, -1.55155793e-01,  2.13974386e-01,\n",
       "         -2.47266904e-01],\n",
       "        [ 1.64534554e-01,  9.58706997e-03, -2.29928672e-01,\n",
       "         -1.34177536e-01,  1.48218140e-01,  2.35639706e-01,\n",
       "         -1.81631163e-01,  1.16355211e-01,  1.54096946e-01,\n",
       "         -2.24301383e-01],\n",
       "        [-1.67181820e-01,  9.34536830e-02,  6.65384233e-02,\n",
       "          3.27170379e-02, -3.93115312e-01, -1.80260524e-01,\n",
       "          2.94228345e-01, -6.94401786e-02, -2.56731719e-01,\n",
       "         -1.22582585e-01],\n",
       "        [-1.92746595e-01,  2.64696389e-01, -1.63513005e-01,\n",
       "         -1.55186519e-01,  3.17917347e-01,  1.14489377e-01,\n",
       "         -2.19642129e-02,  2.35193387e-01,  2.02740401e-01,\n",
       "         -3.63417178e-01],\n",
       "        [ 3.39307249e-01,  1.65461510e-01,  1.81298465e-01,\n",
       "          2.22061783e-01, -9.94608775e-02, -2.73404986e-01,\n",
       "          1.28663793e-01,  9.43499357e-02,  1.35845631e-01,\n",
       "         -4.34960932e-01],\n",
       "        [-1.44171074e-01, -1.77153185e-01,  3.10376376e-01,\n",
       "         -2.14258302e-02, -2.52465487e-01, -3.39003056e-02,\n",
       "         -2.41174981e-01, -2.82384846e-02,  4.45970923e-01,\n",
       "          2.49234170e-01],\n",
       "        [ 4.54259902e-01, -2.12559611e-01,  1.84691325e-01,\n",
       "          1.68645129e-01, -7.52559155e-02,  9.09065008e-02,\n",
       "         -2.19612226e-01, -1.76115349e-01,  1.38681158e-02,\n",
       "         -3.79311323e-01],\n",
       "        [-7.14318678e-02,  2.13792920e-01,  8.29298049e-02,\n",
       "          1.98933735e-01,  1.04546078e-01,  9.08161402e-02,\n",
       "          1.52507290e-01, -2.64148563e-01,  1.77757129e-01,\n",
       "          2.04308168e-03],\n",
       "        [ 3.36358517e-01,  2.55539984e-01,  9.47592929e-02,\n",
       "         -1.23532251e-01, -2.82473087e-01, -2.80451804e-01,\n",
       "         -3.10929447e-01,  2.66410351e-01,  2.99776316e-01,\n",
       "          2.85300821e-01],\n",
       "        [-1.43640995e-01,  2.50452518e-01,  1.96664065e-01,\n",
       "         -4.83816676e-02, -1.08436815e-01, -1.67506739e-01,\n",
       "         -1.78797752e-01,  6.32636100e-02, -3.58865112e-02,\n",
       "         -4.01530355e-01],\n",
       "        [-1.27020910e-01,  1.27240524e-01,  1.88041285e-01,\n",
       "          3.58082265e-01, -1.26724586e-01,  4.93235141e-01,\n",
       "         -2.71428645e-01, -4.07936722e-01,  1.71867073e-01,\n",
       "          4.75528985e-02],\n",
       "        [-1.13280416e-01, -2.39962667e-01, -3.25519770e-01,\n",
       "         -1.29077835e-02,  1.22553475e-01,  1.11672431e-01,\n",
       "          2.99435884e-01,  6.94938600e-02,  3.49166930e-01,\n",
       "          3.32771122e-01],\n",
       "        [ 5.67501299e-02, -2.48652577e-01,  2.14631155e-01,\n",
       "         -4.38769609e-02,  3.81635576e-01,  2.15159893e-01,\n",
       "          7.98745751e-02, -3.28638673e-01,  2.49090359e-01,\n",
       "         -5.36307991e-01],\n",
       "        [-7.71531090e-02,  3.83897692e-01,  6.32245317e-02,\n",
       "         -1.69280097e-01,  3.41346055e-01, -3.07435542e-01,\n",
       "         -2.83228699e-02, -3.49391848e-01,  5.33547759e-01,\n",
       "         -7.63018504e-02],\n",
       "        [ 1.65500000e-01,  1.26010075e-01, -2.29883805e-01,\n",
       "         -6.63921353e-04, -2.88691819e-02, -4.86663580e-02,\n",
       "          3.20945650e-01, -2.63908774e-01,  2.68233389e-01,\n",
       "          2.87298262e-01],\n",
       "        [-2.16920778e-01, -4.36985731e-01, -5.07991433e-01,\n",
       "          2.94831187e-01, -2.76601493e-01,  5.02767265e-01,\n",
       "         -2.10914552e-01,  3.23523790e-01,  4.13952410e-01,\n",
       "         -1.58500344e-01],\n",
       "        [-1.45532966e-01, -1.28766507e-01, -2.85436865e-02,\n",
       "         -2.36421172e-02, -9.69002843e-02,  5.72221936e-04,\n",
       "         -3.45405430e-01,  2.07010046e-01,  1.60156310e-01,\n",
       "         -1.17767416e-01],\n",
       "        [ 1.45556331e-01, -1.81356132e-01,  1.14563018e-01,\n",
       "         -2.66343713e-01, -3.23659033e-01, -3.38688165e-01,\n",
       "         -5.17951809e-02,  3.15844297e-01,  3.56709510e-01,\n",
       "         -8.29895213e-02],\n",
       "        [ 4.94127184e-01,  1.66197926e-01,  7.30387270e-02,\n",
       "         -2.65504658e-01,  3.44460607e-01, -4.99865264e-01,\n",
       "         -3.69689077e-01, -4.72268614e-04,  1.09414637e-01,\n",
       "         -1.51837081e-01],\n",
       "        [ 1.96193367e-01, -8.96611214e-02,  1.34240374e-01,\n",
       "         -2.45401978e-01, -1.00411989e-01, -2.48008192e-01,\n",
       "          1.91634774e-01, -9.79906693e-02,  1.94712445e-01,\n",
       "         -3.75800192e-01],\n",
       "        [ 5.56279600e-01, -1.09937832e-01,  3.14147353e-01,\n",
       "         -4.92828429e-01, -1.58025891e-01, -7.08912611e-01,\n",
       "          2.93000013e-01,  4.62492228e-01, -1.11564055e-01,\n",
       "          2.87761897e-01],\n",
       "        [-1.31948948e-01, -1.44800618e-01, -1.98743224e-01,\n",
       "         -1.13806278e-01,  2.37360418e-01, -2.45892525e-01,\n",
       "         -1.84774727e-01, -4.49678004e-01,  5.68252206e-01,\n",
       "          2.03050911e-01],\n",
       "        [-2.19063029e-01,  4.58222395e-03, -9.80926603e-02,\n",
       "         -2.58982601e-03,  1.43651143e-01, -1.76157534e-01,\n",
       "          1.22129239e-01,  7.49776810e-02,  1.86499596e-01,\n",
       "          2.21583739e-01],\n",
       "        [-1.52861312e-01,  2.03195829e-02,  1.79908022e-01,\n",
       "         -1.56225681e-01,  1.36199817e-01,  1.78876609e-01,\n",
       "         -1.02281183e-01, -1.28198698e-01,  2.31840136e-03,\n",
       "         -7.39446953e-02],\n",
       "        [-5.27458675e-02,  1.75892070e-01,  6.23215921e-02,\n",
       "          2.59043835e-02, -3.79642189e-01,  2.57333845e-01,\n",
       "          1.65490940e-01,  1.45947650e-01, -1.55105993e-01,\n",
       "         -2.11506635e-01],\n",
       "        [-2.15800539e-01,  1.48004755e-01,  1.47878870e-01,\n",
       "         -2.75367469e-01,  1.43943861e-01,  1.94203973e-01,\n",
       "         -1.61062688e-01,  2.41287097e-01, -2.37833440e-01,\n",
       "         -1.11635759e-01],\n",
       "        [ 4.01292518e-02,  3.47709626e-01,  1.90384731e-01,\n",
       "          4.12211537e-01, -2.44102955e-01, -2.23655924e-01,\n",
       "         -3.68050456e-01, -1.19551830e-02,  1.08705997e-01,\n",
       "         -4.65091676e-01],\n",
       "        [-2.03874648e-01, -1.44009322e-01, -1.53548092e-01,\n",
       "          4.87299412e-02,  3.88030022e-01, -5.40231392e-02,\n",
       "         -1.91155016e-01,  5.71326427e-02,  3.24922174e-01,\n",
       "          9.31812301e-02],\n",
       "        [ 1.22613020e-01, -5.43123424e-01, -1.45611972e-01,\n",
       "          1.91996530e-01, -8.88679251e-02, -1.70989498e-01,\n",
       "         -9.80880558e-02, -2.43377134e-01,  1.45860031e-01,\n",
       "          2.10453019e-01],\n",
       "        [-8.59405845e-02,  1.20201156e-01, -1.85845286e-01,\n",
       "          1.76526457e-01,  1.75625216e-02, -1.29126966e-01,\n",
       "          5.77437133e-02, -1.43721476e-01, -6.45172317e-03,\n",
       "         -2.00175256e-01],\n",
       "        [ 2.91729182e-01,  1.06473006e-01, -4.12694514e-01,\n",
       "          3.02171171e-01,  2.26940274e-01, -5.67038432e-02,\n",
       "          1.18319504e-01, -3.54316235e-01,  2.13934287e-01,\n",
       "          3.42006326e-01],\n",
       "        [-6.20933808e-02,  3.60233754e-01,  3.32289785e-02,\n",
       "         -6.56226337e-01,  1.06645800e-01, -1.74062520e-01,\n",
       "          4.10539776e-01,  2.16464028e-02, -6.15584739e-02,\n",
       "          2.31440291e-01],\n",
       "        [-2.20794320e-01, -4.44698930e-02,  4.24405307e-01,\n",
       "          9.13060606e-02,  2.73556918e-01, -2.88656443e-01,\n",
       "         -3.27434540e-01, -1.48419468e-02, -7.10339367e-01,\n",
       "          6.92212880e-01],\n",
       "        [-3.24152224e-02,  8.48278962e-03,  4.11023229e-01,\n",
       "         -3.13243926e-01, -3.98312390e-01,  1.50385991e-01,\n",
       "         -1.92862470e-02,  3.47145677e-01, -1.73515439e-01,\n",
       "         -2.65910174e-03],\n",
       "        [ 1.27136230e-01,  3.12915206e-01, -7.13237971e-02,\n",
       "         -2.62176961e-01, -9.54821557e-02, -2.39862844e-01,\n",
       "          1.10670254e-01,  8.15182254e-02,  2.52302319e-01,\n",
       "         -6.27675802e-02],\n",
       "        [-6.05997853e-02,  5.18565141e-02, -2.27194056e-01,\n",
       "          3.95748876e-02, -9.37322304e-02,  4.53936271e-02,\n",
       "         -1.44660175e-01, -2.16127098e-01,  1.48375481e-01,\n",
       "          1.06283844e-01],\n",
       "        [-4.12523538e-01,  4.06616151e-01,  1.54361591e-01,\n",
       "          3.51746827e-01, -5.10320589e-02,  3.04115206e-01,\n",
       "         -3.70417953e-01, -3.03468294e-02, -3.80271412e-02,\n",
       "         -3.29726726e-01],\n",
       "        [-1.13288730e-01, -1.26231313e-01, -5.66169247e-02,\n",
       "          1.73797347e-02, -1.48843333e-01,  1.97220519e-01,\n",
       "          7.44167119e-02,  1.73063558e-02,  1.52509764e-01,\n",
       "          1.67517543e-01],\n",
       "        [ 7.34595582e-02,  3.13026220e-01,  8.07443857e-02,\n",
       "         -3.59869272e-01,  1.60015538e-01,  2.23415032e-01,\n",
       "         -1.10253483e-01,  1.10858180e-01, -1.19457066e-01,\n",
       "         -4.05472755e-01],\n",
       "        [ 1.90277711e-01,  8.18456262e-02,  1.65135011e-01,\n",
       "          1.10120423e-01,  1.35529608e-01,  1.55977115e-01,\n",
       "          1.72079042e-01, -1.04075432e-01,  1.39063776e-01,\n",
       "         -7.59352073e-02],\n",
       "        [-1.08108886e-01,  1.84011787e-01,  6.93830922e-02,\n",
       "         -1.35783121e-01, -2.33509913e-01,  1.65718183e-01,\n",
       "          7.13258088e-02, -8.57211724e-02,  9.33521613e-03,\n",
       "          8.50391239e-02],\n",
       "        [-1.61162391e-01, -3.24130654e-01,  2.56326854e-01,\n",
       "          2.47584119e-01, -3.79831165e-01, -1.02638580e-01,\n",
       "          4.28958535e-01, -6.59520686e-01,  2.50210226e-01,\n",
       "          4.32576150e-01],\n",
       "        [-4.83701229e-01,  2.11447209e-01,  7.57063806e-01,\n",
       "          6.22729838e-01, -2.55525380e-01, -4.96211410e-01,\n",
       "         -4.62236494e-01,  3.13366234e-01, -2.10557580e-01,\n",
       "         -5.27470946e-01],\n",
       "        [-2.44131386e-01,  1.10954925e-01,  1.15265936e-01,\n",
       "         -2.61042863e-01, -2.36005172e-01,  3.04089524e-02,\n",
       "         -9.37353168e-03, -4.03506421e-02, -4.82620634e-02,\n",
       "          5.41557372e-02],\n",
       "        [-1.39911801e-01,  4.41717148e-01, -2.58317534e-02,\n",
       "         -1.86594874e-01,  2.56013051e-02, -1.87752619e-01,\n",
       "          2.59646237e-01, -2.40325406e-01, -1.32267371e-01,\n",
       "         -5.71378618e-02],\n",
       "        [-3.59661907e-01, -4.23025548e-01, -4.16029990e-01,\n",
       "          6.19421661e-01, -9.93389264e-03,  2.34439269e-01,\n",
       "         -1.02895044e-01, -5.72563708e-01,  1.04752839e-01,\n",
       "          6.26884580e-01],\n",
       "        [-3.20703387e-01,  2.69063950e-01, -5.63813567e-01,\n",
       "         -4.30437267e-01,  1.91817850e-01,  7.87346661e-02,\n",
       "          6.32232726e-02, -4.47423369e-01,  5.98095596e-01,\n",
       "          1.97947413e-01],\n",
       "        [ 8.02601036e-03,  2.07592085e-01, -4.33942616e-01,\n",
       "          3.02522540e-01,  5.80207407e-01,  1.07142232e-01,\n",
       "         -6.40575469e-01,  2.18384206e-01, -6.36101425e-01,\n",
       "          5.25880575e-01],\n",
       "        [-1.75692469e-01, -2.10570574e-01,  2.03332156e-01,\n",
       "          4.86491680e-01, -1.77223399e-01,  1.88568220e-01,\n",
       "         -2.03552857e-01,  1.56946018e-01,  3.46310765e-01,\n",
       "          1.70985609e-01],\n",
       "        [-1.07521065e-01,  3.12174201e-01, -1.12801395e-01,\n",
       "         -2.45959520e-01,  5.45095921e-01,  1.54290110e-01,\n",
       "         -2.83773720e-01,  2.17757702e-01, -2.56928176e-01,\n",
       "          1.38472587e-01],\n",
       "        [-1.01644121e-01, -3.60224023e-02,  2.05987602e-01,\n",
       "          1.58759102e-01,  1.25149146e-01,  1.38728358e-02,\n",
       "          7.72301108e-02, -2.30575517e-01,  1.52468413e-01,\n",
       "         -2.21793830e-01],\n",
       "        [-9.78171080e-02,  4.00657237e-01,  2.29497045e-01,\n",
       "         -5.73677838e-01,  1.91047162e-01, -1.23376682e-01,\n",
       "         -2.07627386e-01,  3.58586073e-01,  3.99943851e-02,\n",
       "         -2.43903175e-01],\n",
       "        [ 1.68416575e-02,  1.99887529e-01, -8.53283033e-02,\n",
       "          4.55999911e-01,  2.42696598e-01, -5.44025958e-01,\n",
       "          2.40265086e-01,  5.73303998e-02, -1.91140875e-01,\n",
       "         -1.19661637e-01],\n",
       "        [-3.10872886e-02, -2.44280532e-01,  3.30425013e-04,\n",
       "          2.27789059e-01, -2.52883285e-01, -7.03380862e-03,\n",
       "          2.38384038e-01, -2.12517068e-01, -1.09321818e-01,\n",
       "          1.21985242e-01],\n",
       "        [ 1.61797449e-01, -2.24771127e-01, -4.09947664e-01,\n",
       "          4.48728502e-01, -1.48493294e-02,  2.25620270e-01,\n",
       "          2.67649233e-01, -3.57767314e-01, -2.58546174e-01,\n",
       "          2.35663317e-02],\n",
       "        [-3.91180962e-02, -2.85027891e-01, -1.64604336e-01,\n",
       "         -3.82989138e-01,  2.61963308e-01,  8.46322834e-01,\n",
       "          4.86128390e-01, -1.15126103e-01, -8.39217454e-02,\n",
       "         -4.88331795e-01],\n",
       "        [-3.83271366e-01, -8.60894397e-02, -3.72316718e-01,\n",
       "         -2.91505039e-01, -4.49232161e-01,  5.80691755e-01,\n",
       "         -4.41157222e-01,  5.39889514e-01,  2.39108503e-01,\n",
       "          5.12445390e-01],\n",
       "        [ 1.77514665e-02,  4.81440946e-02, -1.65389463e-01,\n",
       "          3.71595114e-01,  5.39748609e-01, -4.67330605e-01,\n",
       "         -4.39786762e-01,  3.13027442e-01, -4.67442721e-02,\n",
       "         -5.77801019e-02],\n",
       "        [-2.64848411e-01, -5.99946715e-02,  3.98188204e-01,\n",
       "          1.92954704e-01, -5.31716682e-02, -3.74607235e-01,\n",
       "         -4.55287039e-01,  1.52999952e-01,  8.08716789e-02,\n",
       "          2.07953185e-01],\n",
       "        [-5.34842610e-01,  4.25278723e-01, -7.03466460e-02,\n",
       "         -3.82413752e-02,  4.06522125e-01,  1.46210000e-01,\n",
       "         -1.70993537e-03, -3.38412821e-01,  1.91430345e-01,\n",
       "         -1.89161718e-01],\n",
       "        [-2.77169615e-01, -1.34023607e-01, -2.79750943e-01,\n",
       "          7.14719892e-01, -3.85011435e-02, -3.31406713e-01,\n",
       "         -4.50463034e-02,  1.32560685e-01,  9.10579637e-02,\n",
       "         -1.90531224e-01],\n",
       "        [-5.07077202e-02,  3.92994910e-01,  7.20923021e-02,\n",
       "          2.56262958e-01, -3.39984477e-01,  4.55748647e-01,\n",
       "         -4.42141652e-01, -3.87493335e-02,  4.66104001e-02,\n",
       "          6.10639304e-02],\n",
       "        [ 1.53958231e-01, -1.29994497e-01,  1.60618484e-01,\n",
       "         -1.77100122e-01,  8.04951042e-02,  4.59958225e-01,\n",
       "          6.47134125e-01, -3.01538594e-02, -6.95733204e-02,\n",
       "         -6.85815096e-01],\n",
       "        [ 5.09092927e-01,  1.30230173e-01, -2.19026089e-01,\n",
       "         -3.97011578e-01, -4.34309632e-01,  2.59891957e-01,\n",
       "          6.91123307e-02,  3.31526995e-01, -6.48968101e-01,\n",
       "          3.08420032e-01],\n",
       "        [ 2.91952997e-01, -3.16330999e-01,  5.44004917e-01,\n",
       "         -3.39480996e-01,  8.50271732e-02, -4.64592963e-01,\n",
       "         -5.23855686e-01,  2.59462714e-01,  2.59002090e-01,\n",
       "         -1.23599954e-01],\n",
       "        [ 1.03088632e-01,  3.81715059e-01,  1.21950373e-01,\n",
       "          4.93757248e-01, -8.77033472e-02, -1.95730515e-02,\n",
       "         -4.45368022e-01,  8.72950181e-02, -3.61071855e-01,\n",
       "         -4.27251548e-01],\n",
       "        [ 3.66782516e-01,  2.00257394e-02, -2.45776743e-01,\n",
       "          5.69355153e-02,  2.00154468e-01, -1.88366342e-02,\n",
       "         -1.10783949e-01, -2.85034657e-01, -4.42209542e-01,\n",
       "         -4.01464611e-01],\n",
       "        [-1.35615543e-01,  3.56228709e-01, -2.80868620e-01,\n",
       "         -3.07015684e-02,  5.27856909e-02, -8.45388025e-02,\n",
       "          1.22758493e-01, -1.70054033e-01, -1.65182233e-01,\n",
       "          1.30143389e-01],\n",
       "        [ 1.51531756e-01, -2.38237828e-01, -5.61757712e-03,\n",
       "         -2.55691409e-01,  2.29657558e-03, -1.26475349e-01,\n",
       "         -2.65483018e-02,  8.66749808e-02,  3.64450186e-01,\n",
       "          6.62930086e-02],\n",
       "        [-1.47618085e-01, -7.91959167e-02,  2.55528212e-01,\n",
       "         -2.81072091e-02,  1.39560625e-01, -6.95403526e-03,\n",
       "          3.05438638e-01,  8.85316879e-02, -1.23247765e-01,\n",
       "         -1.82185397e-01],\n",
       "        [-3.27847600e-02,  4.13585097e-01, -2.82996625e-01,\n",
       "          9.57975816e-03, -2.77487319e-02,  4.15144488e-02,\n",
       "         -1.86076969e-01,  4.73368168e-02, -1.78828716e-01,\n",
       "          2.56602794e-01]], dtype=float32),\n",
       " array([-0.04550704,  0.07219286,  0.00888936, -0.09595921,  0.00782291,\n",
       "         0.13347298,  0.02795399,  0.00652007, -0.06328246, -0.05210542],\n",
       "       dtype=float32)]"
      ]
     },
     "execution_count": 38,
     "metadata": {},
     "output_type": "execute_result"
    }
   ],
   "source": [
    "model_clf.get_weights()"
   ]
  },
  {
   "cell_type": "code",
   "execution_count": 39,
   "metadata": {
    "id": "vpG2cpdPsA37",
    "outputId": "6a2ed270-7cc3-46d4-b6ff-16ef028cf068"
   },
   "outputs": [
    {
     "name": "stdout",
     "output_type": "stream",
     "text": [
      "Model: \"sequential\"\n",
      "_________________________________________________________________\n",
      "Layer (type)                 Output Shape              Param #   \n",
      "=================================================================\n",
      "inputLayer (Flatten)         (None, 784)               0         \n",
      "_________________________________________________________________\n",
      "hiddenLayer1 (Dense)         (None, 300)               235500    \n",
      "_________________________________________________________________\n",
      "hiddenLayer2 (Dense)         (None, 100)               30100     \n",
      "_________________________________________________________________\n",
      "outputLayer (Dense)          (None, 10)                1010      \n",
      "=================================================================\n",
      "Total params: 266,610\n",
      "Trainable params: 266,610\n",
      "Non-trainable params: 0\n",
      "_________________________________________________________________\n"
     ]
    }
   ],
   "source": [
    "model_clf.summary()"
   ]
  },
  {
   "cell_type": "code",
   "execution_count": null,
   "metadata": {
    "id": "SmtZBHxKsA37",
    "outputId": "6fe1c7d7-001b-427b-bd5b-dcdc5eeeb837"
   },
   "outputs": [
    {
     "data": {
      "text/plain": [
       "(235500, 30100, 1010)"
      ]
     },
     "execution_count": 139,
     "metadata": {
      "tags": []
     },
     "output_type": "execute_result"
    }
   ],
   "source": [
    "# firsLayer * secondLayer + bias\n",
    "784*300 + 300, 300*100+100, 100*10+10"
   ]
  },
  {
   "cell_type": "code",
   "execution_count": null,
   "metadata": {
    "id": "YV8JMjgCsA37",
    "outputId": "105b36f8-ed37-4f53-b71f-bd53c4eba8b8"
   },
   "outputs": [
    {
     "data": {
      "text/plain": [
       "266610"
      ]
     },
     "execution_count": 140,
     "metadata": {
      "tags": []
     },
     "output_type": "execute_result"
    }
   ],
   "source": [
    "# Total parameters to be trained -\n",
    "sum((235500, 30100, 1010))"
   ]
  },
  {
   "cell_type": "code",
   "execution_count": 16,
   "metadata": {
    "id": "lRAMv8qvsA38",
    "outputId": "7de13730-2e05-4b08-b08a-736c561d6385"
   },
   "outputs": [
    {
     "data": {
      "text/plain": [
       "'hiddenLayer1'"
      ]
     },
     "execution_count": 16,
     "metadata": {},
     "output_type": "execute_result"
    }
   ],
   "source": [
    "hidden1 = model_clf.layers[1]\n",
    "hidden1.name"
   ]
  },
  {
   "cell_type": "code",
   "execution_count": 17,
   "metadata": {
    "id": "XwBpE9b3sA38",
    "outputId": "8297147d-d779-42d8-e233-fecd026a3f7e"
   },
   "outputs": [
    {
     "data": {
      "text/plain": [
       "True"
      ]
     },
     "execution_count": 17,
     "metadata": {},
     "output_type": "execute_result"
    }
   ],
   "source": [
    "model_clf.get_layer(hidden1.name) is hidden1"
   ]
  },
  {
   "cell_type": "code",
   "execution_count": null,
   "metadata": {
    "id": "HgmIM5BasA38"
   },
   "outputs": [],
   "source": [
    "# hidden1.set_weights(hidden1.get_weights()) # to set weights"
   ]
  },
  {
   "cell_type": "code",
   "execution_count": 18,
   "metadata": {
    "id": "ea87Z81ysA38",
    "outputId": "c87e905f-8187-4a05-dbe5-ec1941d257de"
   },
   "outputs": [
    {
     "data": {
      "text/plain": [
       "list"
      ]
     },
     "execution_count": 18,
     "metadata": {},
     "output_type": "execute_result"
    }
   ],
   "source": [
    "type(hidden1.get_weights())"
   ]
  },
  {
   "cell_type": "code",
   "execution_count": 19,
   "metadata": {
    "id": "zHSkO7VnsA39",
    "outputId": "351e0d64-0340-48dd-83ca-b7e013133ae4"
   },
   "outputs": [
    {
     "data": {
      "text/plain": [
       "[array([[ 0.04777863,  0.00361472,  0.00496715, ...,  0.07188107,\n",
       "         -0.00914919, -0.07196407],\n",
       "        [ 0.02734764,  0.06348729, -0.03302194, ...,  0.04878709,\n",
       "          0.00488582, -0.06276483],\n",
       "        [-0.00917581, -0.05691288,  0.04024088, ..., -0.01472648,\n",
       "         -0.0352909 , -0.04559099],\n",
       "        ...,\n",
       "        [-0.02365714,  0.01517922, -0.05328022, ...,  0.01061208,\n",
       "          0.06597225,  0.0167707 ],\n",
       "        [ 0.04925957,  0.05787884, -0.06366865, ...,  0.01595059,\n",
       "          0.03631122, -0.07252695],\n",
       "        [-0.002328  , -0.04501433, -0.06110969, ...,  0.02914705,\n",
       "          0.04517711,  0.045482  ]], dtype=float32),\n",
       " array([0., 0., 0., 0., 0., 0., 0., 0., 0., 0., 0., 0., 0., 0., 0., 0., 0.,\n",
       "        0., 0., 0., 0., 0., 0., 0., 0., 0., 0., 0., 0., 0., 0., 0., 0., 0.,\n",
       "        0., 0., 0., 0., 0., 0., 0., 0., 0., 0., 0., 0., 0., 0., 0., 0., 0.,\n",
       "        0., 0., 0., 0., 0., 0., 0., 0., 0., 0., 0., 0., 0., 0., 0., 0., 0.,\n",
       "        0., 0., 0., 0., 0., 0., 0., 0., 0., 0., 0., 0., 0., 0., 0., 0., 0.,\n",
       "        0., 0., 0., 0., 0., 0., 0., 0., 0., 0., 0., 0., 0., 0., 0., 0., 0.,\n",
       "        0., 0., 0., 0., 0., 0., 0., 0., 0., 0., 0., 0., 0., 0., 0., 0., 0.,\n",
       "        0., 0., 0., 0., 0., 0., 0., 0., 0., 0., 0., 0., 0., 0., 0., 0., 0.,\n",
       "        0., 0., 0., 0., 0., 0., 0., 0., 0., 0., 0., 0., 0., 0., 0., 0., 0.,\n",
       "        0., 0., 0., 0., 0., 0., 0., 0., 0., 0., 0., 0., 0., 0., 0., 0., 0.,\n",
       "        0., 0., 0., 0., 0., 0., 0., 0., 0., 0., 0., 0., 0., 0., 0., 0., 0.,\n",
       "        0., 0., 0., 0., 0., 0., 0., 0., 0., 0., 0., 0., 0., 0., 0., 0., 0.,\n",
       "        0., 0., 0., 0., 0., 0., 0., 0., 0., 0., 0., 0., 0., 0., 0., 0., 0.,\n",
       "        0., 0., 0., 0., 0., 0., 0., 0., 0., 0., 0., 0., 0., 0., 0., 0., 0.,\n",
       "        0., 0., 0., 0., 0., 0., 0., 0., 0., 0., 0., 0., 0., 0., 0., 0., 0.,\n",
       "        0., 0., 0., 0., 0., 0., 0., 0., 0., 0., 0., 0., 0., 0., 0., 0., 0.,\n",
       "        0., 0., 0., 0., 0., 0., 0., 0., 0., 0., 0., 0., 0., 0., 0., 0., 0.,\n",
       "        0., 0., 0., 0., 0., 0., 0., 0., 0., 0., 0.], dtype=float32)]"
      ]
     },
     "execution_count": 19,
     "metadata": {},
     "output_type": "execute_result"
    }
   ],
   "source": [
    "hidden1.get_weights()"
   ]
  },
  {
   "cell_type": "code",
   "execution_count": 20,
   "metadata": {
    "id": "6Kc7wVVMsA39"
   },
   "outputs": [],
   "source": [
    "weights, biases = hidden1.get_weights()"
   ]
  },
  {
   "cell_type": "code",
   "execution_count": 21,
   "metadata": {
    "id": "CnSYQooDsA39",
    "outputId": "ef03f853-f0c5-4734-9a0e-e71a245db154"
   },
   "outputs": [
    {
     "name": "stdout",
     "output_type": "stream",
     "text": [
      "shape\n",
      " (784, 300) \n",
      "\n"
     ]
    },
    {
     "data": {
      "text/plain": [
       "array([[ 0.04777863,  0.00361472,  0.00496715, ...,  0.07188107,\n",
       "        -0.00914919, -0.07196407],\n",
       "       [ 0.02734764,  0.06348729, -0.03302194, ...,  0.04878709,\n",
       "         0.00488582, -0.06276483],\n",
       "       [-0.00917581, -0.05691288,  0.04024088, ..., -0.01472648,\n",
       "        -0.0352909 , -0.04559099],\n",
       "       ...,\n",
       "       [-0.02365714,  0.01517922, -0.05328022, ...,  0.01061208,\n",
       "         0.06597225,  0.0167707 ],\n",
       "       [ 0.04925957,  0.05787884, -0.06366865, ...,  0.01595059,\n",
       "         0.03631122, -0.07252695],\n",
       "       [-0.002328  , -0.04501433, -0.06110969, ...,  0.02914705,\n",
       "         0.04517711,  0.045482  ]], dtype=float32)"
      ]
     },
     "execution_count": 21,
     "metadata": {},
     "output_type": "execute_result"
    }
   ],
   "source": [
    "print(\"shape\\n\",weights.shape, \"\\n\")\n",
    "\n",
    "weights\n"
   ]
  },
  {
   "cell_type": "code",
   "execution_count": 22,
   "metadata": {
    "id": "vgwC7Eq-sA39",
    "outputId": "42b76e10-9608-4375-e141-441dbd94c271"
   },
   "outputs": [
    {
     "name": "stdout",
     "output_type": "stream",
     "text": [
      "shape\n",
      " (300,)\n"
     ]
    },
    {
     "data": {
      "text/plain": [
       "array([0., 0., 0., 0., 0., 0., 0., 0., 0., 0., 0., 0., 0., 0., 0., 0., 0.,\n",
       "       0., 0., 0., 0., 0., 0., 0., 0., 0., 0., 0., 0., 0., 0., 0., 0., 0.,\n",
       "       0., 0., 0., 0., 0., 0., 0., 0., 0., 0., 0., 0., 0., 0., 0., 0., 0.,\n",
       "       0., 0., 0., 0., 0., 0., 0., 0., 0., 0., 0., 0., 0., 0., 0., 0., 0.,\n",
       "       0., 0., 0., 0., 0., 0., 0., 0., 0., 0., 0., 0., 0., 0., 0., 0., 0.,\n",
       "       0., 0., 0., 0., 0., 0., 0., 0., 0., 0., 0., 0., 0., 0., 0., 0., 0.,\n",
       "       0., 0., 0., 0., 0., 0., 0., 0., 0., 0., 0., 0., 0., 0., 0., 0., 0.,\n",
       "       0., 0., 0., 0., 0., 0., 0., 0., 0., 0., 0., 0., 0., 0., 0., 0., 0.,\n",
       "       0., 0., 0., 0., 0., 0., 0., 0., 0., 0., 0., 0., 0., 0., 0., 0., 0.,\n",
       "       0., 0., 0., 0., 0., 0., 0., 0., 0., 0., 0., 0., 0., 0., 0., 0., 0.,\n",
       "       0., 0., 0., 0., 0., 0., 0., 0., 0., 0., 0., 0., 0., 0., 0., 0., 0.,\n",
       "       0., 0., 0., 0., 0., 0., 0., 0., 0., 0., 0., 0., 0., 0., 0., 0., 0.,\n",
       "       0., 0., 0., 0., 0., 0., 0., 0., 0., 0., 0., 0., 0., 0., 0., 0., 0.,\n",
       "       0., 0., 0., 0., 0., 0., 0., 0., 0., 0., 0., 0., 0., 0., 0., 0., 0.,\n",
       "       0., 0., 0., 0., 0., 0., 0., 0., 0., 0., 0., 0., 0., 0., 0., 0., 0.,\n",
       "       0., 0., 0., 0., 0., 0., 0., 0., 0., 0., 0., 0., 0., 0., 0., 0., 0.,\n",
       "       0., 0., 0., 0., 0., 0., 0., 0., 0., 0., 0., 0., 0., 0., 0., 0., 0.,\n",
       "       0., 0., 0., 0., 0., 0., 0., 0., 0., 0., 0.], dtype=float32)"
      ]
     },
     "execution_count": 22,
     "metadata": {},
     "output_type": "execute_result"
    }
   ],
   "source": [
    "print(\"shape\\n\", biases.shape)\n",
    "\n",
    "biases"
   ]
  },
  {
   "cell_type": "code",
   "execution_count": 23,
   "metadata": {
    "id": "oofYn8SasA39"
   },
   "outputs": [],
   "source": [
    "LOSS_FUNCTION = \"sparse_categorical_crossentropy\" # use => tf.losses.sparse_categorical_crossentropy\n",
    "OPTIMIZER = \"SGD\" # or use with custom learning rate=> tf.keras.optimizers.SGD(0.02)\n",
    "METRICS = [\"accuracy\"]\n",
    "\n",
    "model_clf.compile(loss=LOSS_FUNCTION,\n",
    "              optimizer=OPTIMIZER,\n",
    "              metrics=METRICS)\n",
    "\n"
   ]
  },
  {
   "cell_type": "markdown",
   "metadata": {
    "id": "PPH__KwZsA3-"
   },
   "source": [
    "#### Alternatively \n",
    "```python\n",
    "model_clf.compile(loss=tf.losses.sparse_categorical_crossentropy,\n",
    "               optimizer=tf.keras.optimizers.SGD(0.02),\n",
    "               metrics=[\"accuracy\"])\n",
    "```"
   ]
  },
  {
   "cell_type": "code",
   "execution_count": null,
   "metadata": {
    "id": "Fd6iFtTLsA3-"
   },
   "outputs": [],
   "source": [
    "# 1719*30, X_train.shape, 55000/32, batch size=32 by default"
   ]
  },
  {
   "cell_type": "code",
   "execution_count": 24,
   "metadata": {
    "id": "gTVrbuJSsA3-",
    "outputId": "f835d2d5-fc7e-4723-f6de-cf59be1e51e7"
   },
   "outputs": [
    {
     "name": "stdout",
     "output_type": "stream",
     "text": [
      "Epoch 1/30\n",
      "1719/1719 [==============================] - 7s 4ms/step - loss: 0.6191 - accuracy: 0.8416 - val_loss: 0.3091 - val_accuracy: 0.9158\n",
      "Epoch 2/30\n",
      "1719/1719 [==============================] - 6s 4ms/step - loss: 0.2902 - accuracy: 0.9168 - val_loss: 0.2415 - val_accuracy: 0.9328\n",
      "Epoch 3/30\n",
      "1719/1719 [==============================] - 6s 4ms/step - loss: 0.2357 - accuracy: 0.9327 - val_loss: 0.2045 - val_accuracy: 0.9416\n",
      "Epoch 4/30\n",
      "1719/1719 [==============================] - 6s 3ms/step - loss: 0.2010 - accuracy: 0.9421 - val_loss: 0.1758 - val_accuracy: 0.9512\n",
      "Epoch 5/30\n",
      "1719/1719 [==============================] - 6s 4ms/step - loss: 0.1747 - accuracy: 0.9503 - val_loss: 0.1548 - val_accuracy: 0.9574\n",
      "Epoch 6/30\n",
      "1719/1719 [==============================] - 6s 3ms/step - loss: 0.1541 - accuracy: 0.9553 - val_loss: 0.1490 - val_accuracy: 0.9604\n",
      "Epoch 7/30\n",
      "1719/1719 [==============================] - 6s 4ms/step - loss: 0.1371 - accuracy: 0.9605 - val_loss: 0.1320 - val_accuracy: 0.9648\n",
      "Epoch 8/30\n",
      "1719/1719 [==============================] - 6s 3ms/step - loss: 0.1237 - accuracy: 0.9646 - val_loss: 0.1244 - val_accuracy: 0.9666\n",
      "Epoch 9/30\n",
      "1719/1719 [==============================] - 6s 3ms/step - loss: 0.1125 - accuracy: 0.9677 - val_loss: 0.1174 - val_accuracy: 0.9660\n",
      "Epoch 10/30\n",
      "1719/1719 [==============================] - 6s 3ms/step - loss: 0.1030 - accuracy: 0.9709 - val_loss: 0.1079 - val_accuracy: 0.9704\n",
      "Epoch 11/30\n",
      "1719/1719 [==============================] - 6s 3ms/step - loss: 0.0947 - accuracy: 0.9736 - val_loss: 0.1028 - val_accuracy: 0.9710\n",
      "Epoch 12/30\n",
      "1719/1719 [==============================] - 6s 4ms/step - loss: 0.0873 - accuracy: 0.9760 - val_loss: 0.0989 - val_accuracy: 0.9712\n",
      "Epoch 13/30\n",
      "1719/1719 [==============================] - 6s 4ms/step - loss: 0.0808 - accuracy: 0.9777 - val_loss: 0.0938 - val_accuracy: 0.9740\n",
      "Epoch 14/30\n",
      "1719/1719 [==============================] - 6s 4ms/step - loss: 0.0753 - accuracy: 0.9789 - val_loss: 0.0905 - val_accuracy: 0.9738\n",
      "Epoch 15/30\n",
      "1719/1719 [==============================] - 6s 3ms/step - loss: 0.0701 - accuracy: 0.9807 - val_loss: 0.0859 - val_accuracy: 0.9758\n",
      "Epoch 16/30\n",
      "1719/1719 [==============================] - 6s 3ms/step - loss: 0.0654 - accuracy: 0.9818 - val_loss: 0.0855 - val_accuracy: 0.9746\n",
      "Epoch 17/30\n",
      "1719/1719 [==============================] - 6s 4ms/step - loss: 0.0611 - accuracy: 0.9832 - val_loss: 0.0821 - val_accuracy: 0.9776\n",
      "Epoch 18/30\n",
      "1719/1719 [==============================] - 6s 4ms/step - loss: 0.0569 - accuracy: 0.9845 - val_loss: 0.0827 - val_accuracy: 0.9772\n",
      "Epoch 19/30\n",
      "1719/1719 [==============================] - 6s 4ms/step - loss: 0.0535 - accuracy: 0.9856 - val_loss: 0.0776 - val_accuracy: 0.9770\n",
      "Epoch 20/30\n",
      "1719/1719 [==============================] - 6s 4ms/step - loss: 0.0500 - accuracy: 0.9868 - val_loss: 0.0772 - val_accuracy: 0.9770\n",
      "Epoch 21/30\n",
      "1719/1719 [==============================] - 6s 3ms/step - loss: 0.0470 - accuracy: 0.9877 - val_loss: 0.0765 - val_accuracy: 0.9768\n",
      "Epoch 22/30\n",
      "1719/1719 [==============================] - 6s 4ms/step - loss: 0.0441 - accuracy: 0.9885 - val_loss: 0.0775 - val_accuracy: 0.9778\n",
      "Epoch 23/30\n",
      "1719/1719 [==============================] - 6s 3ms/step - loss: 0.0417 - accuracy: 0.9890 - val_loss: 0.0737 - val_accuracy: 0.9780\n",
      "Epoch 24/30\n",
      "1719/1719 [==============================] - 6s 3ms/step - loss: 0.0392 - accuracy: 0.9902 - val_loss: 0.0729 - val_accuracy: 0.9790\n",
      "Epoch 25/30\n",
      "1719/1719 [==============================] - 6s 3ms/step - loss: 0.0370 - accuracy: 0.9906 - val_loss: 0.0737 - val_accuracy: 0.9784\n",
      "Epoch 26/30\n",
      "1719/1719 [==============================] - 6s 4ms/step - loss: 0.0345 - accuracy: 0.9914 - val_loss: 0.0723 - val_accuracy: 0.9792\n",
      "Epoch 27/30\n",
      "1719/1719 [==============================] - 6s 4ms/step - loss: 0.0326 - accuracy: 0.9923 - val_loss: 0.0708 - val_accuracy: 0.9788\n",
      "Epoch 28/30\n",
      "1719/1719 [==============================] - 6s 3ms/step - loss: 0.0306 - accuracy: 0.9927 - val_loss: 0.0705 - val_accuracy: 0.9804\n",
      "Epoch 29/30\n",
      "1719/1719 [==============================] - 6s 3ms/step - loss: 0.0289 - accuracy: 0.9935 - val_loss: 0.0736 - val_accuracy: 0.9784\n",
      "Epoch 30/30\n",
      "1719/1719 [==============================] - 6s 3ms/step - loss: 0.0273 - accuracy: 0.9940 - val_loss: 0.0695 - val_accuracy: 0.9808\n"
     ]
    }
   ],
   "source": [
    "EPOCHS = 30\n",
    "VALIDATION_SET = (X_valid, y_valid)\n",
    "\n",
    "history = model_clf.fit(X_train, y_train, epochs=EPOCHS,\n",
    "                    validation_data=VALIDATION_SET)\n"
   ]
  },
  {
   "cell_type": "code",
   "execution_count": 25,
   "metadata": {
    "id": "_9OG3BSasA3-"
   },
   "outputs": [],
   "source": [
    "import time\n",
    "import os\n",
    "\n",
    "def saveModel_path(model_dir=\"SAVED_MODELS\"):\n",
    "    os.makedirs(model_dir, exist_ok=True)\n",
    "    fileName = time.strftime(\"Model_%Y_%m_%d_%H_%M_%S_.h5\")    \n",
    "    model_path = os.path.join(model_dir, fileName)\n",
    "    print(f\"your model will be saved at the following location\\n{model_path}\")\n",
    "    return model_path"
   ]
  },
  {
   "cell_type": "code",
   "execution_count": 26,
   "metadata": {
    "id": "ZNpzxz4zsA3-",
    "outputId": "8d2ad222-3e94-41d8-9dfb-92faca5062a7"
   },
   "outputs": [
    {
     "name": "stdout",
     "output_type": "stream",
     "text": [
      "your model will be saved at the following location\n",
      "SAVED_MODELS\\Model_2021_04_05_22_49_51_.h5\n"
     ]
    }
   ],
   "source": [
    "UNIQUE_PATH = model_clf.save(saveModel_path())"
   ]
  },
  {
   "cell_type": "code",
   "execution_count": 27,
   "metadata": {
    "id": "59ZNBQGwsA3_",
    "outputId": "59eb2a88-e8a0-4103-d471-2f8196014955"
   },
   "outputs": [
    {
     "data": {
      "text/plain": [
       "{'verbose': 1, 'epochs': 30, 'steps': 1719}"
      ]
     },
     "execution_count": 27,
     "metadata": {},
     "output_type": "execute_result"
    }
   ],
   "source": [
    "history.params"
   ]
  },
  {
   "cell_type": "code",
   "execution_count": 28,
   "metadata": {
    "id": "AF5ZKmfGsA3_",
    "outputId": "55d2c702-8a1b-459e-ebd7-bb1979549560"
   },
   "outputs": [
    {
     "data": {
      "text/html": [
       "<div>\n",
       "<style scoped>\n",
       "    .dataframe tbody tr th:only-of-type {\n",
       "        vertical-align: middle;\n",
       "    }\n",
       "\n",
       "    .dataframe tbody tr th {\n",
       "        vertical-align: top;\n",
       "    }\n",
       "\n",
       "    .dataframe thead th {\n",
       "        text-align: right;\n",
       "    }\n",
       "</style>\n",
       "<table border=\"1\" class=\"dataframe\">\n",
       "  <thead>\n",
       "    <tr style=\"text-align: right;\">\n",
       "      <th></th>\n",
       "      <th>loss</th>\n",
       "      <th>accuracy</th>\n",
       "      <th>val_loss</th>\n",
       "      <th>val_accuracy</th>\n",
       "    </tr>\n",
       "  </thead>\n",
       "  <tbody>\n",
       "    <tr>\n",
       "      <th>0</th>\n",
       "      <td>0.619063</td>\n",
       "      <td>0.841564</td>\n",
       "      <td>0.309060</td>\n",
       "      <td>0.9158</td>\n",
       "    </tr>\n",
       "    <tr>\n",
       "      <th>1</th>\n",
       "      <td>0.290247</td>\n",
       "      <td>0.916800</td>\n",
       "      <td>0.241474</td>\n",
       "      <td>0.9328</td>\n",
       "    </tr>\n",
       "    <tr>\n",
       "      <th>2</th>\n",
       "      <td>0.235707</td>\n",
       "      <td>0.932745</td>\n",
       "      <td>0.204469</td>\n",
       "      <td>0.9416</td>\n",
       "    </tr>\n",
       "    <tr>\n",
       "      <th>3</th>\n",
       "      <td>0.200963</td>\n",
       "      <td>0.942055</td>\n",
       "      <td>0.175829</td>\n",
       "      <td>0.9512</td>\n",
       "    </tr>\n",
       "    <tr>\n",
       "      <th>4</th>\n",
       "      <td>0.174744</td>\n",
       "      <td>0.950291</td>\n",
       "      <td>0.154831</td>\n",
       "      <td>0.9574</td>\n",
       "    </tr>\n",
       "    <tr>\n",
       "      <th>5</th>\n",
       "      <td>0.154096</td>\n",
       "      <td>0.955291</td>\n",
       "      <td>0.149048</td>\n",
       "      <td>0.9604</td>\n",
       "    </tr>\n",
       "    <tr>\n",
       "      <th>6</th>\n",
       "      <td>0.137058</td>\n",
       "      <td>0.960527</td>\n",
       "      <td>0.131980</td>\n",
       "      <td>0.9648</td>\n",
       "    </tr>\n",
       "    <tr>\n",
       "      <th>7</th>\n",
       "      <td>0.123660</td>\n",
       "      <td>0.964618</td>\n",
       "      <td>0.124420</td>\n",
       "      <td>0.9666</td>\n",
       "    </tr>\n",
       "    <tr>\n",
       "      <th>8</th>\n",
       "      <td>0.112525</td>\n",
       "      <td>0.967691</td>\n",
       "      <td>0.117364</td>\n",
       "      <td>0.9660</td>\n",
       "    </tr>\n",
       "    <tr>\n",
       "      <th>9</th>\n",
       "      <td>0.103009</td>\n",
       "      <td>0.970873</td>\n",
       "      <td>0.107851</td>\n",
       "      <td>0.9704</td>\n",
       "    </tr>\n",
       "    <tr>\n",
       "      <th>10</th>\n",
       "      <td>0.094667</td>\n",
       "      <td>0.973636</td>\n",
       "      <td>0.102810</td>\n",
       "      <td>0.9710</td>\n",
       "    </tr>\n",
       "    <tr>\n",
       "      <th>11</th>\n",
       "      <td>0.087300</td>\n",
       "      <td>0.976000</td>\n",
       "      <td>0.098937</td>\n",
       "      <td>0.9712</td>\n",
       "    </tr>\n",
       "    <tr>\n",
       "      <th>12</th>\n",
       "      <td>0.080835</td>\n",
       "      <td>0.977691</td>\n",
       "      <td>0.093778</td>\n",
       "      <td>0.9740</td>\n",
       "    </tr>\n",
       "    <tr>\n",
       "      <th>13</th>\n",
       "      <td>0.075303</td>\n",
       "      <td>0.978891</td>\n",
       "      <td>0.090469</td>\n",
       "      <td>0.9738</td>\n",
       "    </tr>\n",
       "    <tr>\n",
       "      <th>14</th>\n",
       "      <td>0.070096</td>\n",
       "      <td>0.980691</td>\n",
       "      <td>0.085925</td>\n",
       "      <td>0.9758</td>\n",
       "    </tr>\n",
       "    <tr>\n",
       "      <th>15</th>\n",
       "      <td>0.065415</td>\n",
       "      <td>0.981764</td>\n",
       "      <td>0.085467</td>\n",
       "      <td>0.9746</td>\n",
       "    </tr>\n",
       "    <tr>\n",
       "      <th>16</th>\n",
       "      <td>0.061061</td>\n",
       "      <td>0.983218</td>\n",
       "      <td>0.082082</td>\n",
       "      <td>0.9776</td>\n",
       "    </tr>\n",
       "    <tr>\n",
       "      <th>17</th>\n",
       "      <td>0.056922</td>\n",
       "      <td>0.984455</td>\n",
       "      <td>0.082693</td>\n",
       "      <td>0.9772</td>\n",
       "    </tr>\n",
       "    <tr>\n",
       "      <th>18</th>\n",
       "      <td>0.053467</td>\n",
       "      <td>0.985618</td>\n",
       "      <td>0.077644</td>\n",
       "      <td>0.9770</td>\n",
       "    </tr>\n",
       "    <tr>\n",
       "      <th>19</th>\n",
       "      <td>0.049970</td>\n",
       "      <td>0.986836</td>\n",
       "      <td>0.077237</td>\n",
       "      <td>0.9770</td>\n",
       "    </tr>\n",
       "    <tr>\n",
       "      <th>20</th>\n",
       "      <td>0.047048</td>\n",
       "      <td>0.987709</td>\n",
       "      <td>0.076515</td>\n",
       "      <td>0.9768</td>\n",
       "    </tr>\n",
       "    <tr>\n",
       "      <th>21</th>\n",
       "      <td>0.044107</td>\n",
       "      <td>0.988491</td>\n",
       "      <td>0.077499</td>\n",
       "      <td>0.9778</td>\n",
       "    </tr>\n",
       "    <tr>\n",
       "      <th>22</th>\n",
       "      <td>0.041730</td>\n",
       "      <td>0.989018</td>\n",
       "      <td>0.073734</td>\n",
       "      <td>0.9780</td>\n",
       "    </tr>\n",
       "    <tr>\n",
       "      <th>23</th>\n",
       "      <td>0.039209</td>\n",
       "      <td>0.990164</td>\n",
       "      <td>0.072852</td>\n",
       "      <td>0.9790</td>\n",
       "    </tr>\n",
       "    <tr>\n",
       "      <th>24</th>\n",
       "      <td>0.036988</td>\n",
       "      <td>0.990564</td>\n",
       "      <td>0.073684</td>\n",
       "      <td>0.9784</td>\n",
       "    </tr>\n",
       "    <tr>\n",
       "      <th>25</th>\n",
       "      <td>0.034541</td>\n",
       "      <td>0.991364</td>\n",
       "      <td>0.072313</td>\n",
       "      <td>0.9792</td>\n",
       "    </tr>\n",
       "    <tr>\n",
       "      <th>26</th>\n",
       "      <td>0.032570</td>\n",
       "      <td>0.992345</td>\n",
       "      <td>0.070811</td>\n",
       "      <td>0.9788</td>\n",
       "    </tr>\n",
       "    <tr>\n",
       "      <th>27</th>\n",
       "      <td>0.030623</td>\n",
       "      <td>0.992727</td>\n",
       "      <td>0.070550</td>\n",
       "      <td>0.9804</td>\n",
       "    </tr>\n",
       "    <tr>\n",
       "      <th>28</th>\n",
       "      <td>0.028931</td>\n",
       "      <td>0.993473</td>\n",
       "      <td>0.073585</td>\n",
       "      <td>0.9784</td>\n",
       "    </tr>\n",
       "    <tr>\n",
       "      <th>29</th>\n",
       "      <td>0.027292</td>\n",
       "      <td>0.994036</td>\n",
       "      <td>0.069535</td>\n",
       "      <td>0.9808</td>\n",
       "    </tr>\n",
       "  </tbody>\n",
       "</table>\n",
       "</div>"
      ],
      "text/plain": [
       "        loss  accuracy  val_loss  val_accuracy\n",
       "0   0.619063  0.841564  0.309060        0.9158\n",
       "1   0.290247  0.916800  0.241474        0.9328\n",
       "2   0.235707  0.932745  0.204469        0.9416\n",
       "3   0.200963  0.942055  0.175829        0.9512\n",
       "4   0.174744  0.950291  0.154831        0.9574\n",
       "5   0.154096  0.955291  0.149048        0.9604\n",
       "6   0.137058  0.960527  0.131980        0.9648\n",
       "7   0.123660  0.964618  0.124420        0.9666\n",
       "8   0.112525  0.967691  0.117364        0.9660\n",
       "9   0.103009  0.970873  0.107851        0.9704\n",
       "10  0.094667  0.973636  0.102810        0.9710\n",
       "11  0.087300  0.976000  0.098937        0.9712\n",
       "12  0.080835  0.977691  0.093778        0.9740\n",
       "13  0.075303  0.978891  0.090469        0.9738\n",
       "14  0.070096  0.980691  0.085925        0.9758\n",
       "15  0.065415  0.981764  0.085467        0.9746\n",
       "16  0.061061  0.983218  0.082082        0.9776\n",
       "17  0.056922  0.984455  0.082693        0.9772\n",
       "18  0.053467  0.985618  0.077644        0.9770\n",
       "19  0.049970  0.986836  0.077237        0.9770\n",
       "20  0.047048  0.987709  0.076515        0.9768\n",
       "21  0.044107  0.988491  0.077499        0.9778\n",
       "22  0.041730  0.989018  0.073734        0.9780\n",
       "23  0.039209  0.990164  0.072852        0.9790\n",
       "24  0.036988  0.990564  0.073684        0.9784\n",
       "25  0.034541  0.991364  0.072313        0.9792\n",
       "26  0.032570  0.992345  0.070811        0.9788\n",
       "27  0.030623  0.992727  0.070550        0.9804\n",
       "28  0.028931  0.993473  0.073585        0.9784\n",
       "29  0.027292  0.994036  0.069535        0.9808"
      ]
     },
     "execution_count": 28,
     "metadata": {},
     "output_type": "execute_result"
    }
   ],
   "source": [
    "pd.DataFrame(history.history)"
   ]
  },
  {
   "cell_type": "code",
   "execution_count": 29,
   "metadata": {
    "id": "7nJqL4ZwsA3_",
    "outputId": "e4b8a7bf-cd0f-4aee-ec1f-8c09f2535ce9"
   },
   "outputs": [
    {
     "data": {
      "image/png": "[encoded data removed]",
      "text/plain": [
       "<Figure size 576x360 with 1 Axes>"
      ]
     },
     "metadata": {
      "needs_background": "light"
     },
     "output_type": "display_data"
    }
   ],
   "source": [
    "pd.DataFrame(history.history).plot(figsize=(8, 5))\n",
    "plt.grid(True)\n",
    "plt.gca().set_ylim(0, 1)\n",
    "plt.show()"
   ]
  },
  {
   "cell_type": "code",
   "execution_count": 30,
   "metadata": {
    "id": "POtTMqjMsA3_",
    "outputId": "3cf0a450-988d-402e-9c66-e98db182f35d"
   },
   "outputs": [
    {
     "name": "stdout",
     "output_type": "stream",
     "text": [
      "313/313 [==============================] - 1s 2ms/step - loss: 0.0674 - accuracy: 0.9795\n"
     ]
    },
    {
     "data": {
      "text/plain": [
       "[0.06737727671861649, 0.9794999957084656]"
      ]
     },
     "execution_count": 30,
     "metadata": {},
     "output_type": "execute_result"
    }
   ],
   "source": [
    "model_clf.evaluate(X_test, y_test)"
   ]
  },
  {
   "cell_type": "code",
   "execution_count": 31,
   "metadata": {
    "id": "tQYUJFi0sA4A",
    "outputId": "3589f1b6-f084-45a6-8d04-dc36eee1cbd9"
   },
   "outputs": [
    {
     "data": {
      "text/plain": [
       "array([[0., 0., 0., 0., 0., 0., 0., 1., 0., 0.],\n",
       "       [0., 0., 1., 0., 0., 0., 0., 0., 0., 0.],\n",
       "       [0., 1., 0., 0., 0., 0., 0., 0., 0., 0.]], dtype=float32)"
      ]
     },
     "execution_count": 31,
     "metadata": {},
     "output_type": "execute_result"
    }
   ],
   "source": [
    "X_new = X_test[:3]\n",
    "y_proba = model_clf.predict(X_new)\n",
    "y_proba.round(2)"
   ]
  },
  {
   "cell_type": "code",
   "execution_count": 32,
   "metadata": {
    "id": "APAkfhQEsA4A",
    "outputId": "7d5f097c-a28f-4e6e-be44-e870481d8960"
   },
   "outputs": [
    {
     "data": {
      "text/plain": [
       "array([7, 2, 1], dtype=int64)"
      ]
     },
     "execution_count": 32,
     "metadata": {},
     "output_type": "execute_result"
    }
   ],
   "source": [
    "y_pred = np.argmax(model_clf.predict(X_new), axis=-1)\n",
    "y_pred"
   ]
  },
  {
   "cell_type": "code",
   "execution_count": 33,
   "metadata": {
    "id": "Ai62PLgwsA4A"
   },
   "outputs": [],
   "source": [
    "y_test_new = y_test[:3]"
   ]
  },
  {
   "cell_type": "code",
   "execution_count": 34,
   "metadata": {
    "id": "ao0yqfHpsA4A",
    "outputId": "097838c0-b659-4047-9b35-98a62b824a5f"
   },
   "outputs": [
    {
     "data": {
      "image/png": "[encoded data removed]",
      "text/plain": [
       "<Figure size 432x288 with 1 Axes>"
      ]
     },
     "metadata": {
      "needs_background": "light"
     },
     "output_type": "display_data"
    },
    {
     "name": "stdout",
     "output_type": "stream",
     "text": [
      "------------------------------------------------------------\n"
     ]
    },
    {
     "data": {
      "image/png": "[encoded data removed]",
      "text/plain": [
       "<Figure size 432x288 with 1 Axes>"
      ]
     },
     "metadata": {
      "needs_background": "light"
     },
     "output_type": "display_data"
    },
    {
     "name": "stdout",
     "output_type": "stream",
     "text": [
      "------------------------------------------------------------\n"
     ]
    },
    {
     "data": {
      "image/png": "[encoded data removed]",
      "text/plain": [
       "<Figure size 432x288 with 1 Axes>"
      ]
     },
     "metadata": {
      "needs_background": "light"
     },
     "output_type": "display_data"
    },
    {
     "name": "stdout",
     "output_type": "stream",
     "text": [
      "------------------------------------------------------------\n"
     ]
    }
   ],
   "source": [
    "for data, pred, actual in zip(X_new, y_pred, y_test_new):\n",
    "    plt.imshow(data, cmap=\"binary\")\n",
    "    plt.title(f\"Predicted: {pred}, Actual: {actual}\")\n",
    "    plt.axis('off')\n",
    "    plt.show()\n",
    "    print(\"---\"*20)"
   ]
  },
  {
   "cell_type": "markdown",
   "metadata": {
    "id": "1cDh_I6nsA4A"
   },
   "source": [
    "<iframe src=\"https://slides.com/supremecommander/basic-neural-network/embed\" width=\"576\" height=\"420\" scrolling=\"no\" frameborder=\"0\" webkitallowfullscreen mozallowfullscreen allowfullscreen></iframe>"
   ]
  },
  {
   "cell_type": "markdown",
   "metadata": {
    "id": "hnOs4JiWsA4B"
   },
   "source": [
    "<iframe src=\"https://slides.com/supremecommander/basic-neural-network/embed\" width=\"576\" height=\"420\" scrolling=\"no\" frameborder=\"0\" webkitallowfullscreen mozallowfullscreen allowfullscreen></iframe>"
   ]
  }
 ],
 "metadata": {
  "colab": {
   "name": "Tensorflow_Keras-Classifier.ipynb",
   "provenance": []
  },
  "kernelspec": {
   "display_name": "Python 3",
   "language": "python",
   "name": "python3"
  },
  "language_info": {
   "codemirror_mode": {
    "name": "ipython",
    "version": 3
   },
   "file_extension": ".py",
   "mimetype": "text/x-python",
   "name": "python",
   "nbconvert_exporter": "python",
   "pygments_lexer": "ipython3",
   "version": "3.8.0"
  }
 },
 "nbformat": 4,
 "nbformat_minor": 1
}
