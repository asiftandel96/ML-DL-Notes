{
 "cells": [
  {
   "cell_type": "code",
   "execution_count": 34,
   "id": "eec19a46",
   "metadata": {},
   "outputs": [
    {
     "data": {
      "text/plain": [
       "'fisA si sihT'"
      ]
     },
     "execution_count": 34,
     "metadata": {},
     "output_type": "execute_result"
    }
   ],
   "source": [
    "def A_string(strParam):\n",
    "    \n",
    "    return strParam[::-1]\n",
    "    \n",
    "A_string('This is Asif')"
   ]
  },
  {
   "cell_type": "code",
   "execution_count": 22,
   "id": "a1a88813",
   "metadata": {},
   "outputs": [
    {
     "name": "stdout",
     "output_type": "stream",
     "text": [
      "[1, 2, 3, 4, 5, 6, 7, 8, 9, 10]\n"
     ]
    }
   ],
   "source": [
    "list_1=[1,2,3,4,5,6,7,8,9,10]\n",
    "print(list_1)"
   ]
  },
  {
   "cell_type": "code",
   "execution_count": 24,
   "id": "2a9de33b",
   "metadata": {},
   "outputs": [
    {
     "name": "stdout",
     "output_type": "stream",
     "text": [
      "Enter the no12\n",
      "It is a perfect no\n"
     ]
    }
   ],
   "source": [
    "# Write A Program to check if it is A Perfect No\n",
    "\n",
    "def perfect_no():\n",
    "\n",
    "    number=int(input('Enter the no'))\n",
    "\n",
    "    if number%2==0 & number%3==0:\n",
    "        print('It is a perfect no')\n",
    "\n",
    "    else:\n",
    "        print('It is not a perfect no')\n",
    "\n",
    "perfect_no()"
   ]
  },
  {
   "cell_type": "code",
   "execution_count": 26,
   "id": "051733f1",
   "metadata": {},
   "outputs": [
    {
     "name": "stdout",
     "output_type": "stream",
     "text": [
      "sdrawkcab ekil skool txet siht woh rednow I\n"
     ]
    }
   ],
   "source": [
    "def my_function(x):\n",
    "    return x[::-1]\n",
    "\n",
    "mytxt = my_function(\"I wonder how this text looks like backwards\")\n",
    "\n",
    "print(mytxt)"
   ]
  },
  {
   "cell_type": "code",
   "execution_count": 32,
   "id": "021b1b5f",
   "metadata": {},
   "outputs": [
    {
     "name": "stdout",
     "output_type": "stream",
     "text": [
      " Please Enter any Number: 12\n",
      " 12 is not a Perfect Number\n"
     ]
    }
   ],
   "source": [
    "\n",
    "Number = int(input(\" Please Enter any Number: \"))\n",
    "Sum = 0\n",
    "for i in range(1, Number):\n",
    "    if(Number % i == 0):\n",
    "        Sum = Sum + i\n",
    "if (Sum == Number):\n",
    "    print(\" %d is a Perfect Number\" %Number)\n",
    "else:\n",
    "    print(\" %d is not a Perfect Number\" %Number)"
   ]
  }
 ],
 "metadata": {
  "kernelspec": {
   "display_name": "Python 3",
   "language": "python",
   "name": "python3"
  },
  "language_info": {
   "codemirror_mode": {
    "name": "ipython",
    "version": 3
   },
   "file_extension": ".py",
   "mimetype": "text/x-python",
   "name": "python",
   "nbconvert_exporter": "python",
   "pygments_lexer": "ipython3",
   "version": "3.8.8"
  }
 },
 "nbformat": 4,
 "nbformat_minor": 5
}
