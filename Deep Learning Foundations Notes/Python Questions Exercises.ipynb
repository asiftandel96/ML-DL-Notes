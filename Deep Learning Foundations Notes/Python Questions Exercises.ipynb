{
 "cells": [
  {
   "cell_type": "markdown",
   "id": "ad005c27",
   "metadata": {},
   "source": [
    "#1. Write a program to check if a given user input number is even or odd ??"
   ]
  },
  {
   "cell_type": "code",
   "execution_count": 11,
   "id": "d377de0a",
   "metadata": {},
   "outputs": [
    {
     "name": "stdout",
     "output_type": "stream",
     "text": [
      "Enter the no13\n",
      "The no is odd\n"
     ]
    }
   ],
   "source": [
    "#First Approach\n",
    "\n",
    "def check_no():\n",
    "    number=int(input('Enter the no'))\n",
    "    if number%2==0:\n",
    "        print('The number is even')\n",
    "    else:\n",
    "        print('The number is odd')\n",
    "        \n",
    "#check_no()\n",
    "\n",
    "\n",
    "#Second Approach\n",
    "\n",
    "def check_input():\n",
    "    number=int(input('Enter the no'))\n",
    "    mod=number%2\n",
    "    if mod>0:\n",
    "        print('The no is odd')\n",
    "    else:\n",
    "        print('The no is even')\n",
    "\n",
    "check_input()"
   ]
  },
  {
   "cell_type": "code",
   "execution_count": 12,
   "id": "48674933",
   "metadata": {},
   "outputs": [
    {
     "name": "stdout",
     "output_type": "stream",
     "text": [
      "10 x 1 = 10\n",
      "10 x 2 = 20\n",
      "10 x 3 = 30\n",
      "10 x 4 = 40\n",
      "10 x 5 = 50\n",
      "10 x 6 = 60\n",
      "10 x 7 = 70\n",
      "10 x 8 = 80\n",
      "10 x 9 = 90\n",
      "10 x 10 = 100\n"
     ]
    }
   ],
   "source": [
    "#2.Write a program to print the table of 10\n",
    "\n",
    "number=10\n",
    "\n",
    "for i in range(1,11):\n",
    "    print(number,'x',i,'=',number*i)"
   ]
  },
  {
   "cell_type": "code",
   "execution_count": 16,
   "id": "1b2195fb",
   "metadata": {},
   "outputs": [
    {
     "name": "stdout",
     "output_type": "stream",
     "text": [
      "1\n",
      "2\n",
      "3\n"
     ]
    }
   ],
   "source": [
    "# 3.Difference between list and array\n",
    "\n",
    "import array\n",
    "#List Structure\n",
    "list_1=[1,'Yash',['a','e','i']]\n",
    "#print(list_1[0])\n",
    "\n",
    "\n",
    "#Array\n",
    "array_no=array.array('i',[1,2,3])\n",
    "for i in array_no:\n",
    "    print(i)"
   ]
  },
  {
   "cell_type": "markdown",
   "id": "22376d58",
   "metadata": {},
   "source": [
    "#4.Mention some important functions in pandas\n",
    "\n",
    "#1. read_csv()\n",
    "\n",
    "#2. head()\n",
    "\n",
    "#3. describe()\n",
    "\n",
    "#4. memory_usage()\n",
    "\n",
    "#5. as_type()\n",
    "\n",
    "#6. loc[:]\n",
    "\n",
    "#7  to_datetime()\n",
    "\n",
    "#8  value_counts()\n",
    "\n",
    "#9 groupby()\n",
    "\n",
    "#10 merge()"
   ]
  },
  {
   "cell_type": "markdown",
   "id": "31cee2f8",
   "metadata": {},
   "source": [
    "#5.What is the difference between list and tuple\n",
    "\n",
    "1.List are mutable while tuple are immutable\n",
    "\n",
    "2.Tuple are more memory efficient than list \n",
    "\n",
    "3.We use Tuple when we don't want our data to be changed\n"
   ]
  },
  {
   "cell_type": "code",
   "execution_count": 18,
   "id": "c71ec9ba",
   "metadata": {},
   "outputs": [
    {
     "name": "stdout",
     "output_type": "stream",
     "text": [
      "120\n",
      "80\n"
     ]
    }
   ],
   "source": [
    "import sys\n",
    "\n",
    "a_list=[1,2,3,4,5,6,7,9]\n",
    "a_tuple=(1,2,3,4,5)\n",
    "\n",
    "print(sys.getsizeof(a_list))\n",
    "print(sys.getsizeof(a_tuple))"
   ]
  },
  {
   "cell_type": "markdown",
   "id": "64525b2b",
   "metadata": {},
   "source": [
    "# What is lambda function?\n",
    "\n",
    "lambda function is a anonymous function which can take any arguments and only one expression\n",
    "\n",
    "Syntax:-\n",
    "\n",
    "lambda function:expression"
   ]
  },
  {
   "cell_type": "code",
   "execution_count": 20,
   "id": "83b485b2",
   "metadata": {},
   "outputs": [
    {
     "name": "stdout",
     "output_type": "stream",
     "text": [
      "15\n"
     ]
    }
   ],
   "source": [
    "x=lambda a:a+10\n",
    "print(x(5))"
   ]
  },
  {
   "cell_type": "code",
   "execution_count": 21,
   "id": "09de38f9",
   "metadata": {},
   "outputs": [
    {
     "name": "stdout",
     "output_type": "stream",
     "text": [
      "30\n"
     ]
    }
   ],
   "source": [
    "x=lambda a,b:a*b\n",
    "print(x(5,6))"
   ]
  },
  {
   "cell_type": "code",
   "execution_count": 23,
   "id": "be476df5",
   "metadata": {},
   "outputs": [
    {
     "name": "stdout",
     "output_type": "stream",
     "text": [
      "13\n"
     ]
    }
   ],
   "source": [
    "# Structure of lambda Function\n",
    "def myfunc(n):\n",
    "    \n",
    "    return lambda a:a+n\n",
    "\n",
    "my_doubler=myfunc(2)\n",
    "\n",
    "print(my_doubler(11))"
   ]
  },
  {
   "cell_type": "code",
   "execution_count": 25,
   "id": "9df89b88",
   "metadata": {},
   "outputs": [
    {
     "name": "stdout",
     "output_type": "stream",
     "text": [
      "10\n"
     ]
    }
   ],
   "source": [
    "def myfunc2(n):\n",
    "    return lambda a:a*n\n",
    "    \n",
    "my=myfunc2(1)\n",
    "\n",
    "print(my(10))"
   ]
  },
  {
   "cell_type": "code",
   "execution_count": 27,
   "id": "85a25e24",
   "metadata": {},
   "outputs": [
    {
     "name": "stdout",
     "output_type": "stream",
     "text": [
      "lednaT fisA\n"
     ]
    }
   ],
   "source": [
    "#Write a code to reverse the below String:\n",
    "\n",
    "String_Name='Asif Tandel'\n",
    "print(String_Name[::-1])"
   ]
  },
  {
   "cell_type": "code",
   "execution_count": 28,
   "id": "2f4ea5d4",
   "metadata": {},
   "outputs": [
    {
     "name": "stdout",
     "output_type": "stream",
     "text": [
      "The original string is :Asif Tandel\n",
      "The reversed string(using loops) is :lednaT fisA\n"
     ]
    }
   ],
   "source": [
    "#Write a code to reverse the below String:(3 Approach)\n",
    "\n",
    "#Loop\n",
    "\n",
    "def reverse(s):\n",
    "    str=\"\"\n",
    "    for i in s:\n",
    "        str = i + str\n",
    "    return str\n",
    "\n",
    "s='Asif Tandel'\n",
    "print(\"The original string is :\",end=\"\")\n",
    "print(s)\n",
    "\n",
    "print(\"The reversed string(using loops) is :\",end=\"\")\n",
    "print(reverse(s))"
   ]
  },
  {
   "cell_type": "code",
   "execution_count": 30,
   "id": "6c3eb2fb",
   "metadata": {},
   "outputs": [
    {
     "name": "stdout",
     "output_type": "stream",
     "text": [
      "The original string is :Asif Tandel\n",
      "The reversed string(using loops) is :lednaT fisA\n"
     ]
    }
   ],
   "source": [
    "#Using recursion\n",
    "\n",
    "def reverse(s):\n",
    "    if len(s)==0:\n",
    "        return s\n",
    "    else:\n",
    "        return reverse(s[1:]) + s[0]\n",
    "\n",
    "s='Asif Tandel'\n",
    "print(\"The original string is :\",end=\"\")\n",
    "print(s)\n",
    "\n",
    "print(\"The reversed string(using loops) is :\",end=\"\")\n",
    "print(reverse(s))"
   ]
  },
  {
   "cell_type": "code",
   "execution_count": 31,
   "id": "cd026d6c",
   "metadata": {},
   "outputs": [
    {
     "data": {
      "text/plain": [
       "[1, 5, 10, 1, 5, 10, 1, 5, 10]"
      ]
     },
     "execution_count": 31,
     "metadata": {},
     "output_type": "execute_result"
    }
   ],
   "source": [
    "#What will be the output of the following:\n",
    "lst = [1,5,10]\n",
    "lst * 3"
   ]
  },
  {
   "cell_type": "code",
   "execution_count": 3,
   "id": "5b8479b2",
   "metadata": {},
   "outputs": [
    {
     "name": "stdout",
     "output_type": "stream",
     "text": [
      "Life\n",
      "is\n",
      "to\n",
      "from\n",
      "your\n",
      "mistakes\n"
     ]
    }
   ],
   "source": [
    "#Print even lengths word in the following String: (Complete the function)\n",
    "def printWords(s):\n",
    "    s = s.split(\" \")\n",
    "      \n",
    "    # iterate in words of string \n",
    "    for word in s: \n",
    "          \n",
    "        # if length is even \n",
    "        if len(word)%2==0:\n",
    "            print(word) \n",
    "  \n",
    "  \n",
    "# Driver Code \n",
    "s = \"Life is too short to learn from your own mistakes\" \n",
    "printWords(s) "
   ]
  },
  {
   "cell_type": "code",
   "execution_count": 7,
   "id": "25b4717b",
   "metadata": {},
   "outputs": [
    {
     "name": "stdout",
     "output_type": "stream",
     "text": [
      "Largest element is: 25\n",
      "Second Largest element is: 20\n"
     ]
    }
   ],
   "source": [
    "#Write a code to create a list of random 10 integer numbers and print the largest 2 elements in the list?\n",
    "\n",
    "def find_len(list1):\n",
    "    length = len(list1)\n",
    "    list1.sort()\n",
    "    print(\"Largest element is:\", list1[length-1])\n",
    "    print(\"Second Largest element is:\", list1[length-2])\n",
    "  \n",
    "# Driver Code\n",
    "list1=[1,2,3,4,5,10,15,20,25]\n",
    "Largest = find_len(list1)"
   ]
  },
  {
   "cell_type": "code",
   "execution_count": null,
   "id": "327b6714",
   "metadata": {},
   "outputs": [],
   "source": [
    "def find_len(list1):\n",
    "    \n",
    "    length=len(list1)\n",
    "    list1.sort()"
   ]
  }
 ],
 "metadata": {
  "kernelspec": {
   "display_name": "Python 3 (ipykernel)",
   "language": "python",
   "name": "python3"
  },
  "language_info": {
   "codemirror_mode": {
    "name": "ipython",
    "version": 3
   },
   "file_extension": ".py",
   "mimetype": "text/x-python",
   "name": "python",
   "nbconvert_exporter": "python",
   "pygments_lexer": "ipython3",
   "version": "3.8.12"
  }
 },
 "nbformat": 4,
 "nbformat_minor": 5
}
